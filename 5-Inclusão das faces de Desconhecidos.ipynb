{
  "nbformat": 4,
  "nbformat_minor": 0,
  "metadata": {
    "colab": {
      "name": "Desconhecidos.ipynb",
      "provenance": [],
      "collapsed_sections": []
    },
    "kernelspec": {
      "name": "python3",
      "display_name": "Python 3"
    },
    "language_info": {
      "name": "python"
    }
  },
  "cells": [
    {
      "cell_type": "code",
      "metadata": {
        "id": "0-jc41x7DuMT"
      },
      "source": [
        "import numpy as np\n",
        "import pandas as pd\n",
        "\n",
        "import matplotlib.pyplot as plt\n",
        "%matplotlib inline"
      ],
      "execution_count": 3,
      "outputs": []
    },
    {
      "cell_type": "markdown",
      "metadata": {
        "id": "SIeqx1f_toL1"
      },
      "source": [
        "## **TRAIN**"
      ]
    },
    {
      "cell_type": "code",
      "metadata": {
        "id": "Bvur1mXzLlSQ",
        "colab": {
          "base_uri": "https://localhost:8080/"
        },
        "outputId": "ec8f1471-b478-4b45-9ad1-96693bd5baa5"
      },
      "source": [
        "df_desconhecidos = pd.read_csv(\"faces_desconhecidos.csv\")\n",
        "df_conhecidos = pd.read_csv(\"faces.csv\")\n",
        "\n",
        "df = pd.concat([df_desconhecidos, df_conhecidos])\n",
        "print(df)"
      ],
      "execution_count": 4,
      "outputs": [
        {
          "output_type": "stream",
          "name": "stdout",
          "text": [
            "            0         1         2  ...       126       127         target\n",
            "0   -0.028100  1.874009  0.975083  ...  0.117519  0.773804  desconhecidos\n",
            "1    0.281798  0.222542 -0.637775  ...  0.022662 -1.110150  desconhecidos\n",
            "2   -0.469598 -0.438383  1.035088  ... -0.284382  1.243302  desconhecidos\n",
            "3   -0.019212  0.063674  0.368226  ... -2.261591 -1.204839  desconhecidos\n",
            "4    0.792076 -1.098803 -1.363440  ... -0.437672  0.653635  desconhecidos\n",
            "..        ...       ...       ...  ...       ...       ...            ...\n",
            "274  0.434054 -0.002696  0.212229  ... -1.649907  0.687782         nikoru\n",
            "275  0.270181  0.033768 -0.644710  ...  0.135071 -0.412404         nikoru\n",
            "276 -0.092646 -0.497026  0.207429  ...  0.232323 -0.507802         nikoru\n",
            "277 -0.252063  0.123612  0.047183  ...  0.460267 -0.891587         nikoru\n",
            "278  0.108067  0.052588 -0.275684  ...  0.393836 -0.162433         nikoru\n",
            "\n",
            "[29312 rows x 129 columns]\n"
          ]
        }
      ]
    },
    {
      "cell_type": "code",
      "metadata": {
        "colab": {
          "base_uri": "https://localhost:8080/"
        },
        "id": "V2nfyg45veqH",
        "outputId": "e16df77c-cf4e-437b-dc80-b84072ab4ed0"
      },
      "source": [
        "X = np.array(df.drop(\"target\", axis=1))\n",
        "y = np.array(df.target)\n",
        "print(X)\n",
        "print(\"O y é: \")\n",
        "print(y)\n",
        "print(X.shape)\n",
        "print(y.shape)"
      ],
      "execution_count": 5,
      "outputs": [
        {
          "output_type": "stream",
          "name": "stdout",
          "text": [
            "[[-0.02810006  1.874009    0.9750827  ...  0.44154063  0.11751907\n",
            "   0.7738039 ]\n",
            " [ 0.28179818  0.22254208 -0.63777477 ... -0.57853884  0.02266233\n",
            "  -1.1101495 ]\n",
            " [-0.4695979  -0.4383834   1.0350882  ...  1.7568198  -0.28438193\n",
            "   1.2433019 ]\n",
            " ...\n",
            " [-0.09264576 -0.49702612  0.20742887 ... -0.79943746  0.23232256\n",
            "  -0.5078017 ]\n",
            " [-0.25206274  0.12361234  0.04718345 ... -0.35172102  0.4602672\n",
            "  -0.8915868 ]\n",
            " [ 0.10806715  0.05258779 -0.2756843  ... -0.3100665   0.39383587\n",
            "  -0.16243276]]\n",
            "O y é: \n",
            "['desconhecidos' 'desconhecidos' 'desconhecidos' ... 'nikoru' 'nikoru'\n",
            " 'nikoru']\n",
            "(29312, 128)\n",
            "(29312,)\n"
          ]
        }
      ]
    },
    {
      "cell_type": "markdown",
      "metadata": {
        "id": "52RBD1WAv-8q"
      },
      "source": [
        "## **MISTURANDO TUDO**"
      ]
    },
    {
      "cell_type": "code",
      "metadata": {
        "id": "OWGTTtKJvelj"
      },
      "source": [
        "from sklearn.utils import shuffle\n",
        "\n",
        "X, y = shuffle(X, y, random_state=0)"
      ],
      "execution_count": 6,
      "outputs": []
    },
    {
      "cell_type": "markdown",
      "metadata": {
        "id": "dax48ZNrwXZR"
      },
      "source": [
        "## **SPLIT DATASET**"
      ]
    },
    {
      "cell_type": "code",
      "metadata": {
        "id": "fKbN89A8vehW"
      },
      "source": [
        "from sklearn.model_selection import train_test_split\n",
        "\n",
        "trainX, valX, trainY, valY = train_test_split(X, y, test_size=0.20, random_state=42)"
      ],
      "execution_count": 7,
      "outputs": []
    },
    {
      "cell_type": "markdown",
      "metadata": {
        "id": "3jY-lxNOwgSj"
      },
      "source": [
        "## **NORMALIZANDO**"
      ]
    },
    {
      "cell_type": "code",
      "metadata": {
        "id": "gx_IodkLvedb"
      },
      "source": [
        "from sklearn.preprocessing import Normalizer\n",
        "\n",
        "norm = Normalizer(norm=\"l2\")\n",
        "trainX = norm.transform(trainX)\n",
        "valX = norm.transform(valX)"
      ],
      "execution_count": 8,
      "outputs": []
    },
    {
      "cell_type": "markdown",
      "metadata": {
        "id": "lAu6_SANwosN"
      },
      "source": [
        "## **TRATANDO LABELS**"
      ]
    },
    {
      "cell_type": "code",
      "metadata": {
        "colab": {
          "base_uri": "https://localhost:8080/"
        },
        "id": "muKGJDNwveZz",
        "outputId": "e480747e-6b1b-4d68-b4f9-0f97f8904acd"
      },
      "source": [
        "from sklearn.preprocessing import LabelEncoder\n",
        "\n",
        "np.unique(trainY)\n",
        "classes = len(np.unique(trainY))\n",
        "classes"
      ],
      "execution_count": 9,
      "outputs": [
        {
          "output_type": "execute_result",
          "data": {
            "text/plain": [
              "3"
            ]
          },
          "metadata": {},
          "execution_count": 9
        }
      ]
    },
    {
      "cell_type": "markdown",
      "metadata": {
        "id": "aZKaLDBHw0UK"
      },
      "source": [
        "## **DISCRETIZANDO**"
      ]
    },
    {
      "cell_type": "code",
      "metadata": {
        "colab": {
          "base_uri": "https://localhost:8080/"
        },
        "id": "5EDbIdiwveWB",
        "outputId": "56d62279-d2fb-443f-b663-627b3db7b165"
      },
      "source": [
        "# label encode targets\n",
        "out_encoder = LabelEncoder()\n",
        "out_encoder.fit(trainY)\n",
        "trainY = out_encoder.transform(trainY)\n",
        "np.unique(trainY)"
      ],
      "execution_count": 10,
      "outputs": [
        {
          "output_type": "execute_result",
          "data": {
            "text/plain": [
              "array([0, 1, 2])"
            ]
          },
          "metadata": {},
          "execution_count": 10
        }
      ]
    },
    {
      "cell_type": "code",
      "metadata": {
        "colab": {
          "base_uri": "https://localhost:8080/"
        },
        "id": "bliwEyCuveQ2",
        "outputId": "1176c743-83e2-4288-b11c-6caa470e35cd"
      },
      "source": [
        "# label encode targets\n",
        "out_encoder = LabelEncoder()\n",
        "out_encoder.fit(valY)\n",
        "valY = out_encoder.transform(valY)\n",
        "np.unique(valY)"
      ],
      "execution_count": 11,
      "outputs": [
        {
          "output_type": "execute_result",
          "data": {
            "text/plain": [
              "array([0, 1, 2])"
            ]
          },
          "metadata": {},
          "execution_count": 11
        }
      ]
    },
    {
      "cell_type": "markdown",
      "metadata": {
        "id": "BihSU4aOxGSr"
      },
      "source": [
        "## **USANDO O KERAS**"
      ]
    },
    {
      "cell_type": "code",
      "metadata": {
        "colab": {
          "base_uri": "https://localhost:8080/"
        },
        "id": "9SeCcp6JveLc",
        "outputId": "3ee8b0c8-5f0e-4921-c8f8-083625aaf431"
      },
      "source": [
        "from tensorflow.keras.utils import to_categorical\n",
        "trainY = to_categorical(trainY)\n",
        "valY = to_categorical(valY)\n",
        "print(valY[0])\n",
        "print(trainY[0])"
      ],
      "execution_count": 12,
      "outputs": [
        {
          "output_type": "stream",
          "name": "stdout",
          "text": [
            "[0. 1. 0.]\n",
            "[0. 1. 0.]\n"
          ]
        }
      ]
    },
    {
      "cell_type": "code",
      "metadata": {
        "colab": {
          "base_uri": "https://localhost:8080/"
        },
        "id": "XwCTUY-NxNAF",
        "outputId": "5553fb26-547f-4063-c2e4-1cac9c75bc85"
      },
      "source": [
        "from tensorflow.keras import models\n",
        "from tensorflow.keras import layers\n",
        "\n",
        "model = models.Sequential()\n",
        "model.add(layers.Dense(128, activation='relu', input_shape=(128,)))\n",
        "model.add(layers.Dropout(0.5))\n",
        "model.add(layers.Dense(classes, activation='softmax'))\n",
        "\n",
        "model.summary()"
      ],
      "execution_count": 13,
      "outputs": [
        {
          "output_type": "stream",
          "name": "stdout",
          "text": [
            "Model: \"sequential\"\n",
            "_________________________________________________________________\n",
            "Layer (type)                 Output Shape              Param #   \n",
            "=================================================================\n",
            "dense (Dense)                (None, 128)               16512     \n",
            "_________________________________________________________________\n",
            "dropout (Dropout)            (None, 128)               0         \n",
            "_________________________________________________________________\n",
            "dense_1 (Dense)              (None, 3)                 387       \n",
            "=================================================================\n",
            "Total params: 16,899\n",
            "Trainable params: 16,899\n",
            "Non-trainable params: 0\n",
            "_________________________________________________________________\n"
          ]
        }
      ]
    },
    {
      "cell_type": "code",
      "metadata": {
        "id": "1iPsd9iuxM7X"
      },
      "source": [
        "model.compile(optimizer='adam',\n",
        "                loss='categorical_crossentropy',\n",
        "                metrics=['accuracy'])"
      ],
      "execution_count": 14,
      "outputs": []
    },
    {
      "cell_type": "code",
      "metadata": {
        "colab": {
          "base_uri": "https://localhost:8080/"
        },
        "id": "C_KAL1axxM3P",
        "outputId": "c9920994-34e3-4fbb-c84e-b3f8bbfa10d4"
      },
      "source": [
        "batch_size=8\n",
        "epochs= 40\n",
        "\n",
        "history = model.fit(trainX, trainY,  \n",
        "                    epochs=epochs, \n",
        "                    validation_data = (valX,valY), \n",
        "                    batch_size=batch_size)"
      ],
      "execution_count": 15,
      "outputs": [
        {
          "output_type": "stream",
          "name": "stdout",
          "text": [
            "Epoch 1/40\n",
            "2932/2932 [==============================] - 4s 1ms/step - loss: 0.0448 - accuracy: 0.9907 - val_loss: 0.0076 - val_accuracy: 0.9983\n",
            "Epoch 2/40\n",
            "2932/2932 [==============================] - 3s 1ms/step - loss: 0.0089 - accuracy: 0.9974 - val_loss: 0.0038 - val_accuracy: 0.9991\n",
            "Epoch 3/40\n",
            "2932/2932 [==============================] - 3s 1ms/step - loss: 0.0058 - accuracy: 0.9984 - val_loss: 0.0028 - val_accuracy: 0.9997\n",
            "Epoch 4/40\n",
            "2932/2932 [==============================] - 3s 1ms/step - loss: 0.0039 - accuracy: 0.9990 - val_loss: 0.0020 - val_accuracy: 0.9993\n",
            "Epoch 5/40\n",
            "2932/2932 [==============================] - 3s 1ms/step - loss: 0.0032 - accuracy: 0.9989 - val_loss: 0.0016 - val_accuracy: 0.9997\n",
            "Epoch 6/40\n",
            "2932/2932 [==============================] - 3s 1ms/step - loss: 0.0025 - accuracy: 0.9989 - val_loss: 0.0016 - val_accuracy: 0.9995\n",
            "Epoch 7/40\n",
            "2932/2932 [==============================] - 3s 1ms/step - loss: 0.0018 - accuracy: 0.9993 - val_loss: 0.0014 - val_accuracy: 0.9995\n",
            "Epoch 8/40\n",
            "2932/2932 [==============================] - 3s 1ms/step - loss: 0.0015 - accuracy: 0.9994 - val_loss: 0.0016 - val_accuracy: 0.9991\n",
            "Epoch 9/40\n",
            "2932/2932 [==============================] - 3s 1ms/step - loss: 0.0012 - accuracy: 0.9996 - val_loss: 0.0017 - val_accuracy: 0.9991\n",
            "Epoch 10/40\n",
            "2932/2932 [==============================] - 3s 1ms/step - loss: 9.7283e-04 - accuracy: 0.9996 - val_loss: 0.0017 - val_accuracy: 0.9993\n",
            "Epoch 11/40\n",
            "2932/2932 [==============================] - 3s 1ms/step - loss: 0.0017 - accuracy: 0.9994 - val_loss: 0.0011 - val_accuracy: 0.9997\n",
            "Epoch 12/40\n",
            "2932/2932 [==============================] - 3s 1ms/step - loss: 6.6504e-04 - accuracy: 0.9997 - val_loss: 0.0011 - val_accuracy: 0.9995\n",
            "Epoch 13/40\n",
            "2932/2932 [==============================] - 3s 1ms/step - loss: 0.0010 - accuracy: 0.9997 - val_loss: 0.0012 - val_accuracy: 0.9995\n",
            "Epoch 14/40\n",
            "2932/2932 [==============================] - 3s 1ms/step - loss: 7.3473e-04 - accuracy: 0.9997 - val_loss: 6.5916e-04 - val_accuracy: 0.9998\n",
            "Epoch 15/40\n",
            "2932/2932 [==============================] - 3s 1ms/step - loss: 5.2684e-04 - accuracy: 0.9998 - val_loss: 6.5021e-04 - val_accuracy: 0.9998\n",
            "Epoch 16/40\n",
            "2932/2932 [==============================] - 3s 1ms/step - loss: 3.1661e-04 - accuracy: 0.9999 - val_loss: 7.2386e-04 - val_accuracy: 0.9998\n",
            "Epoch 17/40\n",
            "2932/2932 [==============================] - 3s 1ms/step - loss: 4.7834e-04 - accuracy: 0.9998 - val_loss: 0.0011 - val_accuracy: 0.9998\n",
            "Epoch 18/40\n",
            "2932/2932 [==============================] - 3s 1ms/step - loss: 2.6846e-04 - accuracy: 0.9998 - val_loss: 0.0014 - val_accuracy: 0.9995\n",
            "Epoch 19/40\n",
            "2932/2932 [==============================] - 3s 1ms/step - loss: 6.8702e-04 - accuracy: 0.9998 - val_loss: 8.2643e-04 - val_accuracy: 0.9997\n",
            "Epoch 20/40\n",
            "2932/2932 [==============================] - 3s 1ms/step - loss: 2.4651e-04 - accuracy: 0.9999 - val_loss: 0.0013 - val_accuracy: 0.9997\n",
            "Epoch 21/40\n",
            "2932/2932 [==============================] - 3s 1ms/step - loss: 3.5984e-04 - accuracy: 1.0000 - val_loss: 0.0015 - val_accuracy: 0.9997\n",
            "Epoch 22/40\n",
            "2932/2932 [==============================] - 3s 1ms/step - loss: 1.5320e-04 - accuracy: 1.0000 - val_loss: 4.6563e-04 - val_accuracy: 0.9998\n",
            "Epoch 23/40\n",
            "2932/2932 [==============================] - 3s 1ms/step - loss: 3.3061e-04 - accuracy: 0.9999 - val_loss: 4.9426e-04 - val_accuracy: 0.9998\n",
            "Epoch 24/40\n",
            "2932/2932 [==============================] - 3s 996us/step - loss: 2.5180e-04 - accuracy: 0.9999 - val_loss: 7.2598e-04 - val_accuracy: 0.9998\n",
            "Epoch 25/40\n",
            "2932/2932 [==============================] - 3s 1ms/step - loss: 5.0774e-04 - accuracy: 0.9998 - val_loss: 5.4245e-04 - val_accuracy: 0.9998\n",
            "Epoch 26/40\n",
            "2932/2932 [==============================] - 3s 1ms/step - loss: 1.7122e-04 - accuracy: 0.9999 - val_loss: 5.2436e-04 - val_accuracy: 0.9998\n",
            "Epoch 27/40\n",
            "2932/2932 [==============================] - 3s 1ms/step - loss: 9.2424e-05 - accuracy: 1.0000 - val_loss: 8.4726e-04 - val_accuracy: 0.9998\n",
            "Epoch 28/40\n",
            "2932/2932 [==============================] - 3s 1ms/step - loss: 2.2421e-04 - accuracy: 0.9999 - val_loss: 8.5623e-04 - val_accuracy: 0.9998\n",
            "Epoch 29/40\n",
            "2932/2932 [==============================] - 3s 1ms/step - loss: 6.5336e-05 - accuracy: 1.0000 - val_loss: 7.7845e-04 - val_accuracy: 0.9998\n",
            "Epoch 30/40\n",
            "2932/2932 [==============================] - 3s 1ms/step - loss: 7.5088e-05 - accuracy: 1.0000 - val_loss: 6.1248e-04 - val_accuracy: 0.9998\n",
            "Epoch 31/40\n",
            "2932/2932 [==============================] - 3s 1ms/step - loss: 2.4497e-04 - accuracy: 0.9999 - val_loss: 7.2422e-04 - val_accuracy: 0.9998\n",
            "Epoch 32/40\n",
            "2932/2932 [==============================] - 3s 1ms/step - loss: 7.6346e-05 - accuracy: 1.0000 - val_loss: 6.1585e-04 - val_accuracy: 0.9998\n",
            "Epoch 33/40\n",
            "2932/2932 [==============================] - 3s 1ms/step - loss: 2.2961e-04 - accuracy: 1.0000 - val_loss: 0.0010 - val_accuracy: 0.9998\n",
            "Epoch 34/40\n",
            "2932/2932 [==============================] - 3s 1ms/step - loss: 1.0164e-04 - accuracy: 1.0000 - val_loss: 8.0384e-04 - val_accuracy: 0.9998\n",
            "Epoch 35/40\n",
            "2932/2932 [==============================] - 3s 999us/step - loss: 7.5958e-05 - accuracy: 1.0000 - val_loss: 6.2991e-04 - val_accuracy: 0.9998\n",
            "Epoch 36/40\n",
            "2932/2932 [==============================] - 3s 1ms/step - loss: 1.2525e-04 - accuracy: 0.9999 - val_loss: 9.4424e-04 - val_accuracy: 0.9998\n",
            "Epoch 37/40\n",
            "2932/2932 [==============================] - 3s 1ms/step - loss: 1.1829e-04 - accuracy: 1.0000 - val_loss: 4.8049e-04 - val_accuracy: 0.9998\n",
            "Epoch 38/40\n",
            "2932/2932 [==============================] - 3s 1ms/step - loss: 3.8148e-05 - accuracy: 1.0000 - val_loss: 5.1535e-04 - val_accuracy: 0.9998\n",
            "Epoch 39/40\n",
            "2932/2932 [==============================] - 3s 1ms/step - loss: 1.2167e-04 - accuracy: 0.9999 - val_loss: 8.1640e-04 - val_accuracy: 0.9998\n",
            "Epoch 40/40\n",
            "2932/2932 [==============================] - 3s 1ms/step - loss: 9.7372e-05 - accuracy: 0.9999 - val_loss: 9.0076e-04 - val_accuracy: 0.9998\n"
          ]
        }
      ]
    },
    {
      "cell_type": "code",
      "metadata": {
        "colab": {
          "base_uri": "https://localhost:8080/",
          "height": 236
        },
        "id": "58DJXd0wxMzB",
        "outputId": "08f4e9bb-0662-4b57-9ec3-bc7bcec6fae0"
      },
      "source": [
        "import matplotlib.pyplot as plt\n",
        "%matplotlib inline\n",
        "\n",
        "plt.plot(history.history['acc'])\n",
        "plt.plot(history.history['val_acc'])\n",
        "plt.title('model accuracy')\n",
        "plt.ylabel('accuracy')\n",
        "plt.xlabel('epoch')\n",
        "plt.legend(['train', 'test'], loc='upper left')\n",
        "plt.show()\n",
        "# summarize history for loss\n",
        "plt.plot(history.history['loss'])\n",
        "plt.plot(history.history['val_loss'])\n",
        "plt.title('model loss')\n",
        "plt.ylabel('loss')\n",
        "plt.xlabel('epoch')\n",
        "plt.legend(['train', 'test'], loc='upper left')\n",
        "plt.show()"
      ],
      "execution_count": 17,
      "outputs": [
        {
          "output_type": "error",
          "ename": "KeyError",
          "evalue": "ignored",
          "traceback": [
            "\u001b[0;31m---------------------------------------------------------------------------\u001b[0m",
            "\u001b[0;31mKeyError\u001b[0m                                  Traceback (most recent call last)",
            "\u001b[0;32m<ipython-input-17-85a9e256b342>\u001b[0m in \u001b[0;36m<module>\u001b[0;34m()\u001b[0m\n\u001b[1;32m      2\u001b[0m \u001b[0mget_ipython\u001b[0m\u001b[0;34m(\u001b[0m\u001b[0;34m)\u001b[0m\u001b[0;34m.\u001b[0m\u001b[0mmagic\u001b[0m\u001b[0;34m(\u001b[0m\u001b[0;34m'matplotlib inline'\u001b[0m\u001b[0;34m)\u001b[0m\u001b[0;34m\u001b[0m\u001b[0;34m\u001b[0m\u001b[0m\n\u001b[1;32m      3\u001b[0m \u001b[0;34m\u001b[0m\u001b[0m\n\u001b[0;32m----> 4\u001b[0;31m \u001b[0mplt\u001b[0m\u001b[0;34m.\u001b[0m\u001b[0mplot\u001b[0m\u001b[0;34m(\u001b[0m\u001b[0mhistory\u001b[0m\u001b[0;34m.\u001b[0m\u001b[0mhistory\u001b[0m\u001b[0;34m[\u001b[0m\u001b[0;34m'acc'\u001b[0m\u001b[0;34m]\u001b[0m\u001b[0;34m)\u001b[0m\u001b[0;34m\u001b[0m\u001b[0;34m\u001b[0m\u001b[0m\n\u001b[0m\u001b[1;32m      5\u001b[0m \u001b[0mplt\u001b[0m\u001b[0;34m.\u001b[0m\u001b[0mplot\u001b[0m\u001b[0;34m(\u001b[0m\u001b[0mhistory\u001b[0m\u001b[0;34m.\u001b[0m\u001b[0mhistory\u001b[0m\u001b[0;34m[\u001b[0m\u001b[0;34m'val_acc'\u001b[0m\u001b[0;34m]\u001b[0m\u001b[0;34m)\u001b[0m\u001b[0;34m\u001b[0m\u001b[0;34m\u001b[0m\u001b[0m\n\u001b[1;32m      6\u001b[0m \u001b[0mplt\u001b[0m\u001b[0;34m.\u001b[0m\u001b[0mtitle\u001b[0m\u001b[0;34m(\u001b[0m\u001b[0;34m'model accuracy'\u001b[0m\u001b[0;34m)\u001b[0m\u001b[0;34m\u001b[0m\u001b[0;34m\u001b[0m\u001b[0m\n",
            "\u001b[0;31mKeyError\u001b[0m: 'acc'"
          ]
        }
      ]
    },
    {
      "cell_type": "code",
      "metadata": {
        "colab": {
          "base_uri": "https://localhost:8080/"
        },
        "id": "mx4x1bDWxMu4",
        "outputId": "b6419ec6-e42d-457d-e227-1e07e36376c7"
      },
      "source": [
        "yhat_val = model.predict(valX)\n",
        "valY = np.argmax(valY,axis = 1)\n",
        "yhat_val = np.argmax(yhat_val,axis = 1)\n",
        "\n",
        "print(valY[0])\n",
        "print(yhat_val[0])"
      ],
      "execution_count": 18,
      "outputs": [
        {
          "output_type": "stream",
          "name": "stdout",
          "text": [
            "1\n",
            "1\n"
          ]
        }
      ]
    },
    {
      "cell_type": "code",
      "metadata": {
        "id": "OSTQVok9xMN1"
      },
      "source": [
        "from sklearn.metrics import confusion_matrix\n",
        "\n",
        "def print_confusion_matrix(model_name, valY, yhat_val):\n",
        "        \n",
        "    cm = confusion_matrix(valY, yhat_val)\n",
        "    total = sum(sum(cm))\n",
        "    acc = (cm[0, 0] + cm[1, 1]) / total\n",
        "    sensitivity = cm[0, 0] / (cm[0, 0] + cm[0, 1])\n",
        "    specificity = cm[1, 1] / (cm[1, 0] + cm[1, 1])\n",
        "    \n",
        "    print(\"MODELO : {}\".format(model_name))\n",
        "    print(\"Acurácia: {:.4f}\".format(acc))\n",
        "    print(\"Sensitividade: {:.4f}\".format(sensitivity))\n",
        "    print(\"Especificidade: {:.4f}\".format(specificity))\n",
        "\n",
        "    from mlxtend.plotting import plot_confusion_matrix\n",
        "    fig, ax = plot_confusion_matrix(conf_mat=cm ,  figsize=(5, 5))\n",
        "    plt.show()"
      ],
      "execution_count": 19,
      "outputs": []
    },
    {
      "cell_type": "code",
      "metadata": {
        "colab": {
          "base_uri": "https://localhost:8080/",
          "height": 402
        },
        "id": "G2FJ7lASxu6C",
        "outputId": "eb6cbc72-1189-4d78-b1d2-61ec0a36e143"
      },
      "source": [
        "print_confusion_matrix(\"KERAS\", valY, yhat_val)"
      ],
      "execution_count": 20,
      "outputs": [
        {
          "output_type": "stream",
          "name": "stdout",
          "text": [
            "MODELO : KERAS\n",
            "Acurácia: 0.9956\n",
            "Sensitividade: 1.0000\n",
            "Especificidade: 1.0000\n"
          ]
        },
        {
          "output_type": "display_data",
          "data": {
            "image/png": "[encoded data removed]",
            "text/plain": [
              "<Figure size 360x360 with 1 Axes>"
            ]
          },
          "metadata": {
            "needs_background": "light"
          }
        }
      ]
    },
    {
      "cell_type": "markdown",
      "metadata": {
        "id": "E2eIS4BKxzVB"
      },
      "source": [
        "## **SALVANDO O MODELO**"
      ]
    },
    {
      "cell_type": "code",
      "metadata": {
        "id": "fqTH-Pvgxu15"
      },
      "source": [
        "model.save(\"faces_d.h5\")"
      ],
      "execution_count": 21,
      "outputs": []
    },
    {
      "cell_type": "code",
      "metadata": {
        "id": "MX_tZa5Sxux5"
      },
      "source": [
        ""
      ],
      "execution_count": null,
      "outputs": []
    },
    {
      "cell_type": "code",
      "metadata": {
        "id": "4tRstgQ1xuuC"
      },
      "source": [
        ""
      ],
      "execution_count": null,
      "outputs": []
    },
    {
      "cell_type": "code",
      "metadata": {
        "id": "ZawYsaesxulf"
      },
      "source": [
        ""
      ],
      "execution_count": null,
      "outputs": []
    }
  ]
}