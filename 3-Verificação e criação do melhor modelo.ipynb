{
  "nbformat": 4,
  "nbformat_minor": 0,
  "metadata": {
    "colab": {
      "name": "Untitled",
      "provenance": [],
      "collapsed_sections": []
    },
    "kernelspec": {
      "name": "python3",
      "display_name": "Python 3"
    },
    "language_info": {
      "name": "python"
    }
  },
  "cells": [
    {
      "cell_type": "code",
      "metadata": {
        "colab": {
          "base_uri": "https://localhost:8080/"
        },
        "id": "XldCebuUF_w4",
        "outputId": "37ca6a24-e1b3-410e-9867-6314227ab275"
      },
      "source": [
        "import numpy as np\n",
        "import pandas as pd\n",
        "import matplotlib as plt\n",
        "\n",
        "%matplotlib inline\n",
        "\n",
        "df = pd.read_csv(\"faces.csv\")\n",
        "\n",
        "df.head(5)\n",
        "print(df.shape)"
      ],
      "execution_count": null,
      "outputs": [
        {
          "output_type": "stream",
          "name": "stdout",
          "text": [
            "(158, 130)\n"
          ]
        }
      ]
    },
    {
      "cell_type": "code",
      "metadata": {
        "id": "zKuJfTm5HDiW"
      },
      "source": [
        "X = np.array(df.drop(\"target\", axis=1))\n",
        "X[1]"
      ],
      "execution_count": null,
      "outputs": []
    },
    {
      "cell_type": "code",
      "metadata": {
        "id": "s6-5v3V0J0TL"
      },
      "source": [
        "y = np.array(df.target)\n",
        "y.shape"
      ],
      "execution_count": null,
      "outputs": []
    },
    {
      "cell_type": "markdown",
      "metadata": {
        "id": "JKanDdLsKETC"
      },
      "source": [
        "## **Misturando tudo**"
      ]
    },
    {
      "cell_type": "code",
      "metadata": {
        "id": "9FxtjaWeKBmp"
      },
      "source": [
        "from sklearn.utils import shuffle\n",
        "\n",
        "out_encoder = LabelEncoder()\n",
        "\n",
        "out_encoder.fit(trainY)\n",
        "LabelEncoder()\n"
      ],
      "execution_count": null,
      "outputs": []
    },
    {
      "cell_type": "code",
      "metadata": {
        "id": "xDPzs4azYScl"
      },
      "source": [
        "# discretização (binarização) do rótulo\n",
        "trainY = out_encoder.transform(trainY)\n",
        "print(trainY)"
      ],
      "execution_count": null,
      "outputs": []
    },
    {
      "cell_type": "markdown",
      "metadata": {
        "id": "5S95icLvYmsd"
      },
      "source": [
        "## **VALIDATION**"
      ]
    },
    {
      "cell_type": "code",
      "metadata": {
        "id": "iTiv_F7XYc5Y"
      },
      "source": [
        "#carrega faces de validação\n",
        "df_val = pd.read_csv(\"faces_validation.csv\")\n",
        "df_val.head(5)"
      ],
      "execution_count": null,
      "outputs": []
    },
    {
      "cell_type": "code",
      "metadata": {
        "id": "wPfFF7UsZQkF"
      },
      "source": [
        "valX = np.array(df_val.drp(\"target\", axis=1))\n",
        "valY = np.array(df_val.target)"
      ],
      "execution_count": null,
      "outputs": []
    },
    {
      "cell_type": "code",
      "metadata": {
        "id": "zc7VbtwSZQYm"
      },
      "source": [
        "out_encoder.fit(valY)\n",
        "LabelEncoder()"
      ],
      "execution_count": null,
      "outputs": []
    },
    {
      "cell_type": "code",
      "metadata": {
        "id": "zmQQ7a7RZQNC"
      },
      "source": [
        "# discretização (binarização) do rótulo\n",
        "valY = out_encoder.transform(valY)\n",
        "print(valY)"
      ],
      "execution_count": null,
      "outputs": []
    },
    {
      "cell_type": "markdown",
      "metadata": {
        "id": "PVhskbIiaLcK"
      },
      "source": [
        "## **AVALIAÇÃO ALGORITMOS** "
      ]
    },
    {
      "cell_type": "markdown",
      "metadata": {
        "id": "55WJO9mNdvNt"
      },
      "source": [
        "## **KNN**"
      ]
    },
    {
      "cell_type": "code",
      "metadata": {
        "id": "--gFLeMKZP93"
      },
      "source": [
        "from sklearn.neighbors import KNeighborsClassifier"
      ],
      "execution_count": null,
      "outputs": []
    },
    {
      "cell_type": "code",
      "metadata": {
        "id": "YcPTXpLnZPtc"
      },
      "source": [
        "knn = KNeighborsClassifier(n_neighbors=5)"
      ],
      "execution_count": null,
      "outputs": []
    },
    {
      "cell_type": "code",
      "metadata": {
        "id": "UWuFeglbal2c"
      },
      "source": [
        "# irá treinar o algoritmo\n",
        "knn.fit(trainX, trainY)"
      ],
      "execution_count": null,
      "outputs": []
    },
    {
      "cell_type": "code",
      "metadata": {
        "id": "iRG9qoMPaljT"
      },
      "source": [
        "yhat_train = knn.predict(trainX)\n",
        "yhat_val = knn.predict(valX)"
      ],
      "execution_count": null,
      "outputs": []
    },
    {
      "cell_type": "code",
      "metadata": {
        "id": "wxKRodSEbG1h"
      },
      "source": [
        "# mostra o resultado da predição\n",
        "yhat_val"
      ],
      "execution_count": null,
      "outputs": []
    },
    {
      "cell_type": "code",
      "metadata": {
        "id": "cdbYB9rfbGxR"
      },
      "source": [
        "from sklearn.metrics import confusion_matrix"
      ],
      "execution_count": null,
      "outputs": []
    },
    {
      "cell_type": "code",
      "metadata": {
        "id": "JHAQ4vUAbGkl"
      },
      "source": [
        "def print_confusion_matrix(model_name, valY, yhat_val):\n",
        "      cm = confusion_matrix(valY, yhat_val)\n",
        "      total = sum(sum(cm))\n",
        "      acc = (cm[0, 0] + cm[1, 1]) / total\n",
        "      sensitivity = cm[0, 0] / (cm[0, 0] + cm[0, 1])\n",
        "      specificity = cm[1, 1] / (cm[1, 0] + cm[1, 1])\n",
        "\n",
        "      print(\"MODELO: {}\".format(model_name))\n",
        "      print(\"Acurácia: {:.4f}\".format(acc))\n",
        "      print(\"Sensitividade: {:.4f}\".format(sensitivity)) #qual ele classifica mais\n",
        "      print(\"Especificidade: {:.4f}\".format(specificity)) \n",
        "\n",
        "      from mlxtend.plotting import plot_confusion_matrix\n",
        "      fig, ax = plot_confusion_matrix(conf_mat=cm, figsize=(5,5))\n",
        "      plt.show()\n"
      ],
      "execution_count": null,
      "outputs": []
    },
    {
      "cell_type": "code",
      "metadata": {
        "id": "3dh7jvrrbGYL"
      },
      "source": [
        "print_confusion_matrix(\"KNN\", valY, yhat_val)"
      ],
      "execution_count": null,
      "outputs": []
    },
    {
      "cell_type": "markdown",
      "metadata": {
        "id": "6FpEwkn9d3ZB"
      },
      "source": [
        "## **SVM (algoritmo de shallow learning)**\n",
        "\n",
        "\n",
        "\n",
        "\n",
        "\n"
      ]
    },
    {
      "cell_type": "code",
      "metadata": {
        "id": "6HG7d9mBbGPR"
      },
      "source": [
        "from sklearn import svm\n",
        "\n",
        "svm = svm.SVC() # instancia o svm"
      ],
      "execution_count": null,
      "outputs": []
    },
    {
      "cell_type": "code",
      "metadata": {
        "id": "8fhCSOJZeR0X"
      },
      "source": [
        "svm.fit(trainX, trainY)"
      ],
      "execution_count": null,
      "outputs": []
    },
    {
      "cell_type": "code",
      "metadata": {
        "id": "AskTiTZCeRix"
      },
      "source": [
        "yhat_train = svm.predict(trainX)\n",
        "yhat_val = svm.predict(valX)"
      ],
      "execution_count": null,
      "outputs": []
    },
    {
      "cell_type": "code",
      "metadata": {
        "id": "ElKdman8eRXU"
      },
      "source": [
        "print_confusion_matrix(\"SVM\", valY, yhat_val)"
      ],
      "execution_count": null,
      "outputs": []
    },
    {
      "cell_type": "markdown",
      "metadata": {
        "id": "YQhRxBExft95"
      },
      "source": [
        "## **KERAS (multlayer perceptron)**\n",
        "*multlayer perceptron não é um Deep Learning Completo, ele faz uma parte do DL.\n",
        "\n",
        "\n",
        "\n",
        "\n",
        "\n"
      ]
    },
    {
      "cell_type": "code",
      "metadata": {
        "id": "Xd8CkbMyeRNh"
      },
      "source": [
        "from tensorflow.keras.utils import to_categorical"
      ],
      "execution_count": null,
      "outputs": []
    },
    {
      "cell_type": "code",
      "metadata": {
        "id": "BPXSe24VgNxK"
      },
      "source": [
        "trainY = to_categorical(trainY) #precisa fazer isso para categorizar as classes"
      ],
      "execution_count": null,
      "outputs": []
    },
    {
      "cell_type": "code",
      "metadata": {
        "id": "VU5rOw3KgNiJ"
      },
      "source": [
        "valY = to_catogirical(valY)"
      ],
      "execution_count": null,
      "outputs": []
    },
    {
      "cell_type": "code",
      "metadata": {
        "id": "mF8UAca-gNKe"
      },
      "source": [
        "from tensorflow.keras import models\n",
        "from tensorflow.keras import layers\n"
      ],
      "execution_count": null,
      "outputs": []
    },
    {
      "cell_type": "code",
      "metadata": {
        "id": "fE1lkr-bgNC3"
      },
      "source": [
        "model = models.Sequencial()\n",
        "model.add(layers.Dense(64, activation=\"relu\", input_shape=(128, )))\n",
        "model.add(layers.Dropout(0.5))\n",
        "model.add(layers.Dense(2, activation=\"softmax\")) #camada de saída. Softmax porque está usando categoria\n",
        "\n",
        "model.summary()"
      ],
      "execution_count": null,
      "outputs": []
    },
    {
      "cell_type": "code",
      "metadata": {
        "id": "UxVeubYQhZiu"
      },
      "source": [
        "model.compile(optimizer=\"adam\",\n",
        "                      loss=\"categorical_crossentropy\",\n",
        "                      metrics=['accuracy'])"
      ],
      "execution_count": null,
      "outputs": []
    },
    {
      "cell_type": "code",
      "metadata": {
        "id": "6Mh7LJd1hZbl"
      },
      "source": [
        "model.fit(trainX, trainY, epochs=100, batch_size=8)"
      ],
      "execution_count": null,
      "outputs": []
    },
    {
      "cell_type": "code",
      "metadata": {
        "id": "i-UBZXiahYma"
      },
      "source": [
        "yhat_train = model.predict(trainX)\n",
        "yhat_val = model.predict(valX)"
      ],
      "execution_count": null,
      "outputs": []
    },
    {
      "cell_type": "code",
      "metadata": {
        "id": "iefK5NKminh1"
      },
      "source": [
        "yhat_val = np.argmax(yhat_val, axis=1)\n",
        "print(yhat_val) #mostra a previsão"
      ],
      "execution_count": null,
      "outputs": []
    },
    {
      "cell_type": "code",
      "metadata": {
        "id": "sgfcqsMBi4Dt"
      },
      "source": [
        "# Troca a probabilidade para um resultado. Ou 0 ou 1\n",
        "valY = np.argmax(valY, axis=1)\n",
        "print(valY) #mostra a previsão "
      ],
      "execution_count": null,
      "outputs": []
    },
    {
      "cell_type": "code",
      "metadata": {
        "id": "Hur59nI3iOix"
      },
      "source": [
        "print_confusion_matrix(\"KERAS\", valY, yhat_val)"
      ],
      "execution_count": null,
      "outputs": []
    },
    {
      "cell_type": "markdown",
      "metadata": {
        "id": "5c1Dexk9jPTx"
      },
      "source": [
        " **Esse Keras é mais generalista. Porque provavelmente o SVM está dando overfitting.**"
      ]
    },
    {
      "cell_type": "code",
      "metadata": {
        "id": "ColRGg7UjdCC"
      },
      "source": [
        "model.save('faces.h5') #esse é o modelo que vai reconhecer faces que aparecer no vídeo"
      ],
      "execution_count": null,
      "outputs": []
    }
  ]
}