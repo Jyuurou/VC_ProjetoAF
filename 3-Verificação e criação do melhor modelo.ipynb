{
  "nbformat": 4,
  "nbformat_minor": 0,
  "metadata": {
    "colab": {
      "name": "Comparação de modelos",
      "provenance": [],
      "collapsed_sections": []
    },
    "kernelspec": {
      "name": "python3",
      "display_name": "Python 3"
    },
    "language_info": {
      "name": "python"
    }
  },
  "cells": [
    {
      "cell_type": "code",
      "metadata": {
        "colab": {
          "base_uri": "https://localhost:8080/"
        },
        "id": "XldCebuUF_w4",
        "outputId": "51ccdced-dd71-485c-aeb9-af7c84d69b60"
      },
      "source": [
        "import numpy as np\n",
        "import pandas as pd\n",
        "import matplotlib.pyplot as plt\n",
        "\n",
        "%matplotlib inline\n",
        "\n",
        "df = pd.read_csv(\"faces.csv\")\n",
        "\n",
        "df.head(5)\n",
        "print(df.shape)"
      ],
      "execution_count": null,
      "outputs": [
        {
          "output_type": "stream",
          "name": "stdout",
          "text": [
            "(279, 129)\n"
          ]
        }
      ]
    },
    {
      "cell_type": "code",
      "metadata": {
        "id": "zKuJfTm5HDiW",
        "colab": {
          "base_uri": "https://localhost:8080/"
        },
        "outputId": "7cadf4bd-0900-4c64-e2a1-5eef6922f917"
      },
      "source": [
        "X = np.array(df.drop(\"target\", axis=1))\n",
        "print(X[1])\n",
        "print(type(X))\n"
      ],
      "execution_count": null,
      "outputs": [
        {
          "output_type": "stream",
          "name": "stdout",
          "text": [
            "[-1.18411900e+00 -7.70940400e-01 -2.08507600e+00  2.03977470e-01\n",
            "  9.87932860e-01  2.28960450e-01  1.23535230e-01 -1.00280100e+00\n",
            " -4.25578030e-01 -2.10722060e-01 -5.94975300e-01 -1.14724050e+00\n",
            "  2.12617440e-01 -8.04952400e-01  9.04704200e-01  4.57978790e-01\n",
            " -2.12182310e-01 -8.32091700e-01 -9.27008330e-01  6.91706840e-01\n",
            "  1.30684470e-01  1.66542240e+00 -1.03529560e+00  1.36155070e-01\n",
            "  1.20741874e-01 -2.92363320e-01 -9.72495300e-01 -7.16196600e-01\n",
            "  1.18019830e+00  2.19584820e+00  2.66701100e+00 -1.20856230e+00\n",
            "  1.34147290e+00 -6.52216700e-02  4.20693280e-01 -1.67896330e+00\n",
            "  2.08564790e-01  3.06731430e-01  4.03317030e-01 -9.75988150e-01\n",
            "  6.89789000e-03  8.11152600e-01 -9.28292630e-01  6.38097500e-04\n",
            " -4.37350930e-01 -1.06061160e+00  6.72215300e-01  4.77415770e-01\n",
            " -6.27953800e-01  1.47563430e+00 -8.55448800e-01 -2.78672580e-01\n",
            " -7.63644950e-02 -4.14559200e-01 -1.33046130e+00 -4.63007330e-01\n",
            "  1.36096990e+00 -1.18024600e+00 -3.76618470e-01 -9.44619100e-01\n",
            "  2.32994400e-01 -6.42566000e-02 -4.08344450e-01  9.56161100e-01\n",
            " -1.28181900e+00  3.20309220e-01  6.05718680e-02  8.34169600e-02\n",
            "  7.12707400e-01 -1.38591530e+00  2.42681020e-02 -1.83053670e+00\n",
            " -5.10912000e-01 -1.85539570e+00 -4.38909920e-01  7.74678400e-01\n",
            "  9.30197500e-01 -5.70584650e-01  4.08130500e-02  1.22165605e-01\n",
            " -1.22157300e+00  3.79622650e-02 -5.69464150e-01  2.28835000e+00\n",
            "  1.81308010e+00 -1.71004160e-02  1.28350340e+00  1.15267010e+00\n",
            " -8.87535200e-01  1.20951450e+00  7.30704840e-01 -3.49060240e-01\n",
            " -9.63095000e-02  9.03261360e-01 -2.18936000e-01 -7.62498750e-02\n",
            "  7.99715600e-01 -8.51857800e-02 -1.42511200e+00 -9.83706400e-01\n",
            "  3.22665800e-01  6.85568800e-02  5.73834660e-01  8.28855100e-01\n",
            "  9.06558400e-01 -2.35784040e-01 -1.97170940e-01 -3.22071400e-01\n",
            "  4.15995870e-01  2.45952050e-01 -4.99200900e-02 -1.03221710e+00\n",
            "  1.02057400e-01  8.02318600e-01 -4.09246200e-01 -1.75227380e+00\n",
            " -6.75897960e-01 -8.05566600e-02 -2.88179200e-01  6.60009200e-02\n",
            "  1.65665380e+00  1.31742470e+00 -8.82039800e-01  5.09424000e-01\n",
            "  4.18686400e-01 -2.15340950e+00 -1.43641840e+00  2.49933290e-01]\n",
            "<class 'numpy.ndarray'>\n"
          ]
        }
      ]
    },
    {
      "cell_type": "code",
      "metadata": {
        "id": "s6-5v3V0J0TL",
        "colab": {
          "base_uri": "https://localhost:8080/"
        },
        "outputId": "11428bf7-8574-4f59-b991-eeff4014f97b"
      },
      "source": [
        "y = np.array(df.target)\n",
        "y.shape"
      ],
      "execution_count": null,
      "outputs": [
        {
          "output_type": "execute_result",
          "data": {
            "text/plain": [
              "(279,)"
            ]
          },
          "metadata": {},
          "execution_count": 5
        }
      ]
    },
    {
      "cell_type": "markdown",
      "metadata": {
        "id": "JKanDdLsKETC"
      },
      "source": [
        "## **Misturando tudo**"
      ]
    },
    {
      "cell_type": "code",
      "metadata": {
        "id": "9FxtjaWeKBmp",
        "colab": {
          "base_uri": "https://localhost:8080/"
        },
        "outputId": "2b7e98da-a5ac-4bed-b3c5-ba68dbcc7205"
      },
      "source": [
        "from sklearn.utils import shuffle\n",
        "\n",
        "trainX, trainY = shuffle(X, y, random_state=0)\n",
        "print(trainY)"
      ],
      "execution_count": null,
      "outputs": [
        {
          "output_type": "stream",
          "name": "stdout",
          "text": [
            "['nikoru' 'nikoru' 'nikoru' 'deiski' 'deiski' 'nikoru' 'nikoru' 'nikoru'\n",
            " 'nikoru' 'deiski' 'nikoru' 'deiski' 'nikoru' 'deiski' 'deiski' 'deiski'\n",
            " 'deiski' 'nikoru' 'deiski' 'nikoru' 'deiski' 'deiski' 'deiski' 'deiski'\n",
            " 'deiski' 'deiski' 'nikoru' 'deiski' 'nikoru' 'deiski' 'nikoru' 'deiski'\n",
            " 'deiski' 'deiski' 'nikoru' 'nikoru' 'nikoru' 'nikoru' 'deiski' 'deiski'\n",
            " 'nikoru' 'nikoru' 'nikoru' 'nikoru' 'nikoru' 'nikoru' 'nikoru' 'deiski'\n",
            " 'deiski' 'nikoru' 'nikoru' 'deiski' 'deiski' 'deiski' 'nikoru' 'nikoru'\n",
            " 'nikoru' 'deiski' 'nikoru' 'nikoru' 'nikoru' 'deiski' 'deiski' 'deiski'\n",
            " 'nikoru' 'nikoru' 'deiski' 'nikoru' 'nikoru' 'deiski' 'deiski' 'deiski'\n",
            " 'nikoru' 'nikoru' 'nikoru' 'deiski' 'nikoru' 'deiski' 'nikoru' 'nikoru'\n",
            " 'nikoru' 'nikoru' 'deiski' 'nikoru' 'nikoru' 'nikoru' 'nikoru' 'deiski'\n",
            " 'deiski' 'deiski' 'nikoru' 'deiski' 'deiski' 'nikoru' 'deiski' 'nikoru'\n",
            " 'deiski' 'deiski' 'deiski' 'deiski' 'nikoru' 'nikoru' 'nikoru' 'deiski'\n",
            " 'deiski' 'deiski' 'nikoru' 'deiski' 'deiski' 'deiski' 'deiski' 'deiski'\n",
            " 'deiski' 'deiski' 'nikoru' 'nikoru' 'nikoru' 'deiski' 'nikoru' 'deiski'\n",
            " 'deiski' 'nikoru' 'nikoru' 'deiski' 'deiski' 'deiski' 'deiski' 'deiski'\n",
            " 'deiski' 'nikoru' 'nikoru' 'deiski' 'nikoru' 'nikoru' 'nikoru' 'deiski'\n",
            " 'deiski' 'deiski' 'nikoru' 'deiski' 'nikoru' 'deiski' 'deiski' 'nikoru'\n",
            " 'deiski' 'deiski' 'deiski' 'deiski' 'nikoru' 'nikoru' 'deiski' 'deiski'\n",
            " 'nikoru' 'nikoru' 'deiski' 'nikoru' 'nikoru' 'deiski' 'nikoru' 'deiski'\n",
            " 'nikoru' 'nikoru' 'nikoru' 'deiski' 'nikoru' 'deiski' 'nikoru' 'deiski'\n",
            " 'nikoru' 'nikoru' 'deiski' 'deiski' 'deiski' 'deiski' 'deiski' 'nikoru'\n",
            " 'nikoru' 'deiski' 'deiski' 'deiski' 'deiski' 'nikoru' 'deiski' 'deiski'\n",
            " 'nikoru' 'deiski' 'deiski' 'nikoru' 'deiski' 'deiski' 'nikoru' 'nikoru'\n",
            " 'deiski' 'deiski' 'deiski' 'nikoru' 'deiski' 'deiski' 'nikoru' 'nikoru'\n",
            " 'nikoru' 'nikoru' 'deiski' 'nikoru' 'nikoru' 'deiski' 'deiski' 'deiski'\n",
            " 'deiski' 'deiski' 'nikoru' 'deiski' 'deiski' 'deiski' 'nikoru' 'nikoru'\n",
            " 'deiski' 'deiski' 'deiski' 'nikoru' 'deiski' 'deiski' 'deiski' 'deiski'\n",
            " 'nikoru' 'nikoru' 'deiski' 'deiski' 'deiski' 'nikoru' 'deiski' 'nikoru'\n",
            " 'nikoru' 'nikoru' 'nikoru' 'deiski' 'nikoru' 'deiski' 'nikoru' 'nikoru'\n",
            " 'nikoru' 'deiski' 'nikoru' 'deiski' 'nikoru' 'nikoru' 'deiski' 'nikoru'\n",
            " 'nikoru' 'nikoru' 'deiski' 'deiski' 'nikoru' 'nikoru' 'deiski' 'nikoru'\n",
            " 'nikoru' 'nikoru' 'deiski' 'deiski' 'deiski' 'nikoru' 'nikoru' 'nikoru'\n",
            " 'nikoru' 'deiski' 'nikoru' 'deiski' 'deiski' 'deiski' 'nikoru' 'nikoru'\n",
            " 'deiski' 'nikoru' 'nikoru' 'nikoru' 'deiski' 'deiski' 'nikoru']\n"
          ]
        }
      ]
    },
    {
      "cell_type": "markdown",
      "metadata": {
        "id": "FJYXckCU0gSG"
      },
      "source": [
        "##**TRATAR LABELS**"
      ]
    },
    {
      "cell_type": "code",
      "metadata": {
        "colab": {
          "base_uri": "https://localhost:8080/"
        },
        "id": "_2BABzbQ0JUQ",
        "outputId": "0e398aab-bbfd-4b5c-d171-174a0ae91821"
      },
      "source": [
        "from sklearn.preprocessing import LabelEncoder\n",
        "\n",
        "out_encoder = LabelEncoder()\n",
        "\n",
        "out_encoder.fit(trainY)\n",
        "LabelEncoder()\n"
      ],
      "execution_count": null,
      "outputs": [
        {
          "output_type": "execute_result",
          "data": {
            "text/plain": [
              "LabelEncoder()"
            ]
          },
          "metadata": {},
          "execution_count": 9
        }
      ]
    },
    {
      "cell_type": "code",
      "metadata": {
        "id": "xDPzs4azYScl",
        "colab": {
          "base_uri": "https://localhost:8080/"
        },
        "outputId": "96773cc6-b261-478e-a9e8-730468b21aae"
      },
      "source": [
        "# discretização (binarização) do rótulo\n",
        "trainY = out_encoder.transform(trainY)\n",
        "print(trainY)"
      ],
      "execution_count": null,
      "outputs": [
        {
          "output_type": "stream",
          "name": "stdout",
          "text": [
            "[1 1 1 0 0 1 1 1 1 0 1 0 1 0 0 0 0 1 0 1 0 0 0 0 0 0 1 0 1 0 1 0 0 0 1 1 1\n",
            " 1 0 0 1 1 1 1 1 1 1 0 0 1 1 0 0 0 1 1 1 0 1 1 1 0 0 0 1 1 0 1 1 0 0 0 1 1\n",
            " 1 0 1 0 1 1 1 1 0 1 1 1 1 0 0 0 1 0 0 1 0 1 0 0 0 0 1 1 1 0 0 0 1 0 0 0 0\n",
            " 0 0 0 1 1 1 0 1 0 0 1 1 0 0 0 0 0 0 1 1 0 1 1 1 0 0 0 1 0 1 0 0 1 0 0 0 0\n",
            " 1 1 0 0 1 1 0 1 1 0 1 0 1 1 1 0 1 0 1 0 1 1 0 0 0 0 0 1 1 0 0 0 0 1 0 0 1\n",
            " 0 0 1 0 0 1 1 0 0 0 1 0 0 1 1 1 1 0 1 1 0 0 0 0 0 1 0 0 0 1 1 0 0 0 1 0 0\n",
            " 0 0 1 1 0 0 0 1 0 1 1 1 1 0 1 0 1 1 1 0 1 0 1 1 0 1 1 1 0 0 1 1 0 1 1 1 0\n",
            " 0 0 1 1 1 1 0 1 0 0 0 1 1 0 1 1 1 0 0 1]\n"
          ]
        }
      ]
    },
    {
      "cell_type": "markdown",
      "metadata": {
        "id": "5S95icLvYmsd"
      },
      "source": [
        "## **VALIDATION**"
      ]
    },
    {
      "cell_type": "code",
      "metadata": {
        "id": "iTiv_F7XYc5Y",
        "colab": {
          "base_uri": "https://localhost:8080/",
          "height": 251
        },
        "outputId": "2cd36fe4-4b87-48ab-921b-a481d2490b7c"
      },
      "source": [
        "#carrega faces de validação\n",
        "df_val = pd.read_csv(\"faces_validation.csv\")\n",
        "df_val.head(5)"
      ],
      "execution_count": null,
      "outputs": [
        {
          "output_type": "execute_result",
          "data": {
            "text/html": [
              "<div>\n",
              "<style scoped>\n",
              "    .dataframe tbody tr th:only-of-type {\n",
              "        vertical-align: middle;\n",
              "    }\n",
              "\n",
              "    .dataframe tbody tr th {\n",
              "        vertical-align: top;\n",
              "    }\n",
              "\n",
              "    .dataframe thead th {\n",
              "        text-align: right;\n",
              "    }\n",
              "</style>\n",
              "<table border=\"1\" class=\"dataframe\">\n",
              "  <thead>\n",
              "    <tr style=\"text-align: right;\">\n",
              "      <th></th>\n",
              "      <th>0</th>\n",
              "      <th>1</th>\n",
              "      <th>2</th>\n",
              "      <th>3</th>\n",
              "      <th>4</th>\n",
              "      <th>5</th>\n",
              "      <th>6</th>\n",
              "      <th>7</th>\n",
              "      <th>8</th>\n",
              "      <th>9</th>\n",
              "      <th>10</th>\n",
              "      <th>11</th>\n",
              "      <th>12</th>\n",
              "      <th>13</th>\n",
              "      <th>14</th>\n",
              "      <th>15</th>\n",
              "      <th>16</th>\n",
              "      <th>17</th>\n",
              "      <th>18</th>\n",
              "      <th>19</th>\n",
              "      <th>20</th>\n",
              "      <th>21</th>\n",
              "      <th>22</th>\n",
              "      <th>23</th>\n",
              "      <th>24</th>\n",
              "      <th>25</th>\n",
              "      <th>26</th>\n",
              "      <th>27</th>\n",
              "      <th>28</th>\n",
              "      <th>29</th>\n",
              "      <th>30</th>\n",
              "      <th>31</th>\n",
              "      <th>32</th>\n",
              "      <th>33</th>\n",
              "      <th>34</th>\n",
              "      <th>35</th>\n",
              "      <th>36</th>\n",
              "      <th>37</th>\n",
              "      <th>38</th>\n",
              "      <th>39</th>\n",
              "      <th>...</th>\n",
              "      <th>89</th>\n",
              "      <th>90</th>\n",
              "      <th>91</th>\n",
              "      <th>92</th>\n",
              "      <th>93</th>\n",
              "      <th>94</th>\n",
              "      <th>95</th>\n",
              "      <th>96</th>\n",
              "      <th>97</th>\n",
              "      <th>98</th>\n",
              "      <th>99</th>\n",
              "      <th>100</th>\n",
              "      <th>101</th>\n",
              "      <th>102</th>\n",
              "      <th>103</th>\n",
              "      <th>104</th>\n",
              "      <th>105</th>\n",
              "      <th>106</th>\n",
              "      <th>107</th>\n",
              "      <th>108</th>\n",
              "      <th>109</th>\n",
              "      <th>110</th>\n",
              "      <th>111</th>\n",
              "      <th>112</th>\n",
              "      <th>113</th>\n",
              "      <th>114</th>\n",
              "      <th>115</th>\n",
              "      <th>116</th>\n",
              "      <th>117</th>\n",
              "      <th>118</th>\n",
              "      <th>119</th>\n",
              "      <th>120</th>\n",
              "      <th>121</th>\n",
              "      <th>122</th>\n",
              "      <th>123</th>\n",
              "      <th>124</th>\n",
              "      <th>125</th>\n",
              "      <th>126</th>\n",
              "      <th>127</th>\n",
              "      <th>target</th>\n",
              "    </tr>\n",
              "  </thead>\n",
              "  <tbody>\n",
              "    <tr>\n",
              "      <th>0</th>\n",
              "      <td>-0.206436</td>\n",
              "      <td>-0.746464</td>\n",
              "      <td>0.278254</td>\n",
              "      <td>-0.587223</td>\n",
              "      <td>0.025434</td>\n",
              "      <td>0.848655</td>\n",
              "      <td>-0.226615</td>\n",
              "      <td>0.132980</td>\n",
              "      <td>1.182832</td>\n",
              "      <td>-0.282673</td>\n",
              "      <td>0.773295</td>\n",
              "      <td>-0.117908</td>\n",
              "      <td>1.079490</td>\n",
              "      <td>-0.519124</td>\n",
              "      <td>-0.629820</td>\n",
              "      <td>-0.161693</td>\n",
              "      <td>0.195582</td>\n",
              "      <td>-0.199930</td>\n",
              "      <td>0.603669</td>\n",
              "      <td>0.464424</td>\n",
              "      <td>-0.158680</td>\n",
              "      <td>0.212851</td>\n",
              "      <td>-0.532143</td>\n",
              "      <td>1.155205</td>\n",
              "      <td>0.732386</td>\n",
              "      <td>0.665504</td>\n",
              "      <td>0.710068</td>\n",
              "      <td>0.070197</td>\n",
              "      <td>-0.139090</td>\n",
              "      <td>-0.634856</td>\n",
              "      <td>0.454976</td>\n",
              "      <td>0.155202</td>\n",
              "      <td>0.137783</td>\n",
              "      <td>-0.165073</td>\n",
              "      <td>-0.178813</td>\n",
              "      <td>-0.067420</td>\n",
              "      <td>-0.159426</td>\n",
              "      <td>0.487659</td>\n",
              "      <td>0.443822</td>\n",
              "      <td>0.062338</td>\n",
              "      <td>...</td>\n",
              "      <td>-0.086140</td>\n",
              "      <td>-0.670040</td>\n",
              "      <td>-0.563643</td>\n",
              "      <td>-0.072814</td>\n",
              "      <td>0.444570</td>\n",
              "      <td>0.761420</td>\n",
              "      <td>0.296646</td>\n",
              "      <td>-0.332085</td>\n",
              "      <td>0.235130</td>\n",
              "      <td>-0.450460</td>\n",
              "      <td>-0.563659</td>\n",
              "      <td>1.149487</td>\n",
              "      <td>-0.093320</td>\n",
              "      <td>0.589385</td>\n",
              "      <td>-0.573453</td>\n",
              "      <td>-0.646295</td>\n",
              "      <td>0.485657</td>\n",
              "      <td>-0.400344</td>\n",
              "      <td>-0.230257</td>\n",
              "      <td>-0.258993</td>\n",
              "      <td>-1.281964</td>\n",
              "      <td>1.002152</td>\n",
              "      <td>0.097178</td>\n",
              "      <td>0.665930</td>\n",
              "      <td>-0.165873</td>\n",
              "      <td>0.045478</td>\n",
              "      <td>0.354351</td>\n",
              "      <td>-0.487647</td>\n",
              "      <td>0.653829</td>\n",
              "      <td>0.031314</td>\n",
              "      <td>0.743142</td>\n",
              "      <td>0.469287</td>\n",
              "      <td>-0.155531</td>\n",
              "      <td>0.340291</td>\n",
              "      <td>0.506537</td>\n",
              "      <td>0.315118</td>\n",
              "      <td>-0.140103</td>\n",
              "      <td>0.569573</td>\n",
              "      <td>0.195775</td>\n",
              "      <td>deiski</td>\n",
              "    </tr>\n",
              "    <tr>\n",
              "      <th>1</th>\n",
              "      <td>-0.130806</td>\n",
              "      <td>-0.575447</td>\n",
              "      <td>0.159703</td>\n",
              "      <td>-0.330744</td>\n",
              "      <td>0.291311</td>\n",
              "      <td>0.709786</td>\n",
              "      <td>-0.105924</td>\n",
              "      <td>0.070527</td>\n",
              "      <td>0.473588</td>\n",
              "      <td>0.160885</td>\n",
              "      <td>0.414585</td>\n",
              "      <td>-0.316870</td>\n",
              "      <td>0.664935</td>\n",
              "      <td>-0.650055</td>\n",
              "      <td>-0.374357</td>\n",
              "      <td>-0.003153</td>\n",
              "      <td>0.108312</td>\n",
              "      <td>0.254863</td>\n",
              "      <td>0.162665</td>\n",
              "      <td>-0.255638</td>\n",
              "      <td>0.101090</td>\n",
              "      <td>0.210526</td>\n",
              "      <td>-0.082747</td>\n",
              "      <td>0.449387</td>\n",
              "      <td>0.472441</td>\n",
              "      <td>0.274098</td>\n",
              "      <td>0.765621</td>\n",
              "      <td>0.332784</td>\n",
              "      <td>-0.602351</td>\n",
              "      <td>0.149052</td>\n",
              "      <td>0.126633</td>\n",
              "      <td>0.613915</td>\n",
              "      <td>-0.078197</td>\n",
              "      <td>-0.028018</td>\n",
              "      <td>0.452732</td>\n",
              "      <td>-0.064221</td>\n",
              "      <td>-0.587907</td>\n",
              "      <td>0.233957</td>\n",
              "      <td>0.123147</td>\n",
              "      <td>0.584642</td>\n",
              "      <td>...</td>\n",
              "      <td>0.312378</td>\n",
              "      <td>-0.063927</td>\n",
              "      <td>0.327874</td>\n",
              "      <td>-0.229674</td>\n",
              "      <td>0.296440</td>\n",
              "      <td>0.710958</td>\n",
              "      <td>0.331260</td>\n",
              "      <td>0.044558</td>\n",
              "      <td>-0.152363</td>\n",
              "      <td>-0.089675</td>\n",
              "      <td>0.034717</td>\n",
              "      <td>0.654028</td>\n",
              "      <td>0.177147</td>\n",
              "      <td>0.252963</td>\n",
              "      <td>-0.506898</td>\n",
              "      <td>-0.402632</td>\n",
              "      <td>0.245751</td>\n",
              "      <td>-1.027006</td>\n",
              "      <td>-0.183330</td>\n",
              "      <td>-0.488793</td>\n",
              "      <td>-1.096510</td>\n",
              "      <td>0.768343</td>\n",
              "      <td>-0.216323</td>\n",
              "      <td>0.238540</td>\n",
              "      <td>0.470417</td>\n",
              "      <td>0.239898</td>\n",
              "      <td>0.525333</td>\n",
              "      <td>-0.383017</td>\n",
              "      <td>0.557899</td>\n",
              "      <td>0.341589</td>\n",
              "      <td>0.498575</td>\n",
              "      <td>-0.007220</td>\n",
              "      <td>-0.178509</td>\n",
              "      <td>0.289650</td>\n",
              "      <td>0.481819</td>\n",
              "      <td>0.023550</td>\n",
              "      <td>-0.335846</td>\n",
              "      <td>0.319536</td>\n",
              "      <td>0.132350</td>\n",
              "      <td>deiski</td>\n",
              "    </tr>\n",
              "    <tr>\n",
              "      <th>2</th>\n",
              "      <td>0.080751</td>\n",
              "      <td>-0.162013</td>\n",
              "      <td>-0.268597</td>\n",
              "      <td>-0.055308</td>\n",
              "      <td>1.056408</td>\n",
              "      <td>-1.207288</td>\n",
              "      <td>-0.314635</td>\n",
              "      <td>0.087923</td>\n",
              "      <td>0.858524</td>\n",
              "      <td>-0.991308</td>\n",
              "      <td>0.418723</td>\n",
              "      <td>-0.712151</td>\n",
              "      <td>-0.483829</td>\n",
              "      <td>-0.903477</td>\n",
              "      <td>0.036907</td>\n",
              "      <td>0.960611</td>\n",
              "      <td>0.180463</td>\n",
              "      <td>0.638263</td>\n",
              "      <td>-1.078037</td>\n",
              "      <td>-0.690597</td>\n",
              "      <td>-0.739978</td>\n",
              "      <td>1.905965</td>\n",
              "      <td>-0.992930</td>\n",
              "      <td>0.723715</td>\n",
              "      <td>-0.567212</td>\n",
              "      <td>0.337273</td>\n",
              "      <td>0.026981</td>\n",
              "      <td>0.562894</td>\n",
              "      <td>0.010235</td>\n",
              "      <td>0.231316</td>\n",
              "      <td>-0.045646</td>\n",
              "      <td>0.733602</td>\n",
              "      <td>-0.216198</td>\n",
              "      <td>0.326769</td>\n",
              "      <td>0.482446</td>\n",
              "      <td>0.403070</td>\n",
              "      <td>-0.802598</td>\n",
              "      <td>-0.576467</td>\n",
              "      <td>0.227998</td>\n",
              "      <td>0.460948</td>\n",
              "      <td>...</td>\n",
              "      <td>1.087766</td>\n",
              "      <td>0.762439</td>\n",
              "      <td>0.919384</td>\n",
              "      <td>-0.201308</td>\n",
              "      <td>-0.500199</td>\n",
              "      <td>0.117675</td>\n",
              "      <td>-0.241030</td>\n",
              "      <td>-0.090686</td>\n",
              "      <td>0.240880</td>\n",
              "      <td>-0.730144</td>\n",
              "      <td>-0.457665</td>\n",
              "      <td>-0.290217</td>\n",
              "      <td>0.507112</td>\n",
              "      <td>0.496674</td>\n",
              "      <td>-0.651408</td>\n",
              "      <td>0.181768</td>\n",
              "      <td>0.228390</td>\n",
              "      <td>-0.201277</td>\n",
              "      <td>0.467379</td>\n",
              "      <td>-0.871299</td>\n",
              "      <td>-0.558181</td>\n",
              "      <td>0.858459</td>\n",
              "      <td>1.086597</td>\n",
              "      <td>0.595151</td>\n",
              "      <td>0.465922</td>\n",
              "      <td>1.299041</td>\n",
              "      <td>-0.228225</td>\n",
              "      <td>0.658769</td>\n",
              "      <td>0.193363</td>\n",
              "      <td>-0.037036</td>\n",
              "      <td>0.318306</td>\n",
              "      <td>-0.965409</td>\n",
              "      <td>-0.557025</td>\n",
              "      <td>0.398265</td>\n",
              "      <td>0.250854</td>\n",
              "      <td>-0.136565</td>\n",
              "      <td>-0.160151</td>\n",
              "      <td>-1.028355</td>\n",
              "      <td>0.061811</td>\n",
              "      <td>deiski</td>\n",
              "    </tr>\n",
              "    <tr>\n",
              "      <th>3</th>\n",
              "      <td>-0.230243</td>\n",
              "      <td>-0.999213</td>\n",
              "      <td>0.284826</td>\n",
              "      <td>-1.235806</td>\n",
              "      <td>0.183500</td>\n",
              "      <td>0.162685</td>\n",
              "      <td>0.154523</td>\n",
              "      <td>0.596714</td>\n",
              "      <td>1.469765</td>\n",
              "      <td>-0.483936</td>\n",
              "      <td>0.473132</td>\n",
              "      <td>0.027018</td>\n",
              "      <td>-0.035792</td>\n",
              "      <td>-0.519663</td>\n",
              "      <td>-0.183437</td>\n",
              "      <td>-0.081853</td>\n",
              "      <td>-0.362870</td>\n",
              "      <td>0.582098</td>\n",
              "      <td>0.364931</td>\n",
              "      <td>-0.894860</td>\n",
              "      <td>0.221756</td>\n",
              "      <td>0.355561</td>\n",
              "      <td>-0.128156</td>\n",
              "      <td>0.789784</td>\n",
              "      <td>0.680087</td>\n",
              "      <td>0.345221</td>\n",
              "      <td>0.954721</td>\n",
              "      <td>-0.296160</td>\n",
              "      <td>0.194049</td>\n",
              "      <td>0.080085</td>\n",
              "      <td>-0.395161</td>\n",
              "      <td>0.980086</td>\n",
              "      <td>0.057079</td>\n",
              "      <td>0.365536</td>\n",
              "      <td>-0.009111</td>\n",
              "      <td>-0.231252</td>\n",
              "      <td>-0.407675</td>\n",
              "      <td>-0.158127</td>\n",
              "      <td>-0.449051</td>\n",
              "      <td>-0.292848</td>\n",
              "      <td>...</td>\n",
              "      <td>0.466409</td>\n",
              "      <td>-0.166569</td>\n",
              "      <td>-0.011511</td>\n",
              "      <td>-0.523260</td>\n",
              "      <td>0.035937</td>\n",
              "      <td>0.913964</td>\n",
              "      <td>0.689441</td>\n",
              "      <td>-0.926657</td>\n",
              "      <td>0.203140</td>\n",
              "      <td>-0.148813</td>\n",
              "      <td>-0.389825</td>\n",
              "      <td>1.156706</td>\n",
              "      <td>-0.468938</td>\n",
              "      <td>0.581379</td>\n",
              "      <td>-1.306757</td>\n",
              "      <td>-0.096355</td>\n",
              "      <td>0.675187</td>\n",
              "      <td>-0.396087</td>\n",
              "      <td>0.023806</td>\n",
              "      <td>0.342760</td>\n",
              "      <td>-1.080936</td>\n",
              "      <td>0.466083</td>\n",
              "      <td>0.275048</td>\n",
              "      <td>0.347622</td>\n",
              "      <td>0.245121</td>\n",
              "      <td>0.522914</td>\n",
              "      <td>0.147650</td>\n",
              "      <td>-0.047130</td>\n",
              "      <td>0.337729</td>\n",
              "      <td>0.907266</td>\n",
              "      <td>0.938855</td>\n",
              "      <td>0.468463</td>\n",
              "      <td>0.042699</td>\n",
              "      <td>0.446190</td>\n",
              "      <td>-0.086410</td>\n",
              "      <td>0.848373</td>\n",
              "      <td>-0.711378</td>\n",
              "      <td>0.419533</td>\n",
              "      <td>0.379627</td>\n",
              "      <td>deiski</td>\n",
              "    </tr>\n",
              "    <tr>\n",
              "      <th>4</th>\n",
              "      <td>0.294907</td>\n",
              "      <td>-0.873148</td>\n",
              "      <td>-0.071881</td>\n",
              "      <td>-1.667662</td>\n",
              "      <td>0.171365</td>\n",
              "      <td>-0.390323</td>\n",
              "      <td>-0.263469</td>\n",
              "      <td>0.333539</td>\n",
              "      <td>0.616051</td>\n",
              "      <td>-0.673439</td>\n",
              "      <td>0.680274</td>\n",
              "      <td>0.484820</td>\n",
              "      <td>-0.680117</td>\n",
              "      <td>-0.661052</td>\n",
              "      <td>0.158783</td>\n",
              "      <td>0.147006</td>\n",
              "      <td>-0.233894</td>\n",
              "      <td>0.321984</td>\n",
              "      <td>0.205010</td>\n",
              "      <td>-1.200472</td>\n",
              "      <td>-0.239211</td>\n",
              "      <td>0.173318</td>\n",
              "      <td>-0.126704</td>\n",
              "      <td>0.573103</td>\n",
              "      <td>0.739806</td>\n",
              "      <td>0.153657</td>\n",
              "      <td>0.595125</td>\n",
              "      <td>0.425735</td>\n",
              "      <td>0.504453</td>\n",
              "      <td>-0.125043</td>\n",
              "      <td>-0.151342</td>\n",
              "      <td>0.768122</td>\n",
              "      <td>-0.085424</td>\n",
              "      <td>-0.000506</td>\n",
              "      <td>-0.060603</td>\n",
              "      <td>-0.087503</td>\n",
              "      <td>-0.510712</td>\n",
              "      <td>0.783086</td>\n",
              "      <td>0.258351</td>\n",
              "      <td>-0.243803</td>\n",
              "      <td>...</td>\n",
              "      <td>0.138759</td>\n",
              "      <td>0.050356</td>\n",
              "      <td>-0.571389</td>\n",
              "      <td>-0.393735</td>\n",
              "      <td>-0.183200</td>\n",
              "      <td>1.119267</td>\n",
              "      <td>0.187382</td>\n",
              "      <td>-0.925499</td>\n",
              "      <td>-0.196728</td>\n",
              "      <td>0.228010</td>\n",
              "      <td>-0.415111</td>\n",
              "      <td>0.480452</td>\n",
              "      <td>-0.118153</td>\n",
              "      <td>0.890241</td>\n",
              "      <td>-0.882063</td>\n",
              "      <td>-0.018629</td>\n",
              "      <td>0.446168</td>\n",
              "      <td>0.209224</td>\n",
              "      <td>0.522467</td>\n",
              "      <td>0.361774</td>\n",
              "      <td>-0.766514</td>\n",
              "      <td>0.606461</td>\n",
              "      <td>0.552802</td>\n",
              "      <td>0.510295</td>\n",
              "      <td>0.067353</td>\n",
              "      <td>0.713876</td>\n",
              "      <td>0.253705</td>\n",
              "      <td>0.111962</td>\n",
              "      <td>1.111428</td>\n",
              "      <td>0.419513</td>\n",
              "      <td>0.254362</td>\n",
              "      <td>0.473169</td>\n",
              "      <td>0.452594</td>\n",
              "      <td>0.819543</td>\n",
              "      <td>0.030917</td>\n",
              "      <td>0.447890</td>\n",
              "      <td>-0.479333</td>\n",
              "      <td>-0.307760</td>\n",
              "      <td>-0.334187</td>\n",
              "      <td>deiski</td>\n",
              "    </tr>\n",
              "  </tbody>\n",
              "</table>\n",
              "<p>5 rows × 129 columns</p>\n",
              "</div>"
            ],
            "text/plain": [
              "          0         1         2         3  ...       125       126       127  target\n",
              "0 -0.206436 -0.746464  0.278254 -0.587223  ... -0.140103  0.569573  0.195775  deiski\n",
              "1 -0.130806 -0.575447  0.159703 -0.330744  ... -0.335846  0.319536  0.132350  deiski\n",
              "2  0.080751 -0.162013 -0.268597 -0.055308  ... -0.160151 -1.028355  0.061811  deiski\n",
              "3 -0.230243 -0.999213  0.284826 -1.235806  ... -0.711378  0.419533  0.379627  deiski\n",
              "4  0.294907 -0.873148 -0.071881 -1.667662  ... -0.479333 -0.307760 -0.334187  deiski\n",
              "\n",
              "[5 rows x 129 columns]"
            ]
          },
          "metadata": {},
          "execution_count": 18
        }
      ]
    },
    {
      "cell_type": "code",
      "metadata": {
        "id": "wPfFF7UsZQkF"
      },
      "source": [
        "valX = np.array(df_val.drop(\"target\", axis=1))\n",
        "valY = np.array(df_val.target)"
      ],
      "execution_count": null,
      "outputs": []
    },
    {
      "cell_type": "code",
      "metadata": {
        "id": "zc7VbtwSZQYm",
        "colab": {
          "base_uri": "https://localhost:8080/"
        },
        "outputId": "4caf434c-2306-4e3d-b1e4-0b620c181f8c"
      },
      "source": [
        "out_encoder.fit(valY)\n",
        "LabelEncoder()"
      ],
      "execution_count": null,
      "outputs": [
        {
          "output_type": "execute_result",
          "data": {
            "text/plain": [
              "LabelEncoder()"
            ]
          },
          "metadata": {},
          "execution_count": 20
        }
      ]
    },
    {
      "cell_type": "code",
      "metadata": {
        "id": "zmQQ7a7RZQNC",
        "colab": {
          "base_uri": "https://localhost:8080/"
        },
        "outputId": "c728c2f7-68f7-4a2a-ae12-66733d0129fb"
      },
      "source": [
        "# discretização (binarização) do rótulo\n",
        "valY = out_encoder.transform(valY)\n",
        "print(valY)"
      ],
      "execution_count": null,
      "outputs": [
        {
          "output_type": "stream",
          "name": "stdout",
          "text": [
            "[0 0 0 0 0 0 0 0 0 0 0 0 0 0 1 1 1 1 1 1 1 1 1 1 1 1 1 1 1 1 1 1 1 1 1 1 1\n",
            " 1 1 1 1 1 1 1 1 1 1 1 1 1 1 1 1 1 1 1 1 1 1 1 1 1 1 1 1 1 1 1 1 1 1]\n"
          ]
        }
      ]
    },
    {
      "cell_type": "markdown",
      "metadata": {
        "id": "PVhskbIiaLcK"
      },
      "source": [
        "## **AVALIAÇÃO ALGORITMOS** "
      ]
    },
    {
      "cell_type": "markdown",
      "metadata": {
        "id": "55WJO9mNdvNt"
      },
      "source": [
        "## **KNN**"
      ]
    },
    {
      "cell_type": "code",
      "metadata": {
        "id": "--gFLeMKZP93"
      },
      "source": [
        "from sklearn.neighbors import KNeighborsClassifier"
      ],
      "execution_count": null,
      "outputs": []
    },
    {
      "cell_type": "code",
      "metadata": {
        "id": "YcPTXpLnZPtc"
      },
      "source": [
        "knn = KNeighborsClassifier(n_neighbors=5)"
      ],
      "execution_count": null,
      "outputs": []
    },
    {
      "cell_type": "code",
      "metadata": {
        "colab": {
          "base_uri": "https://localhost:8080/"
        },
        "id": "YgFdSeJI9c_P",
        "outputId": "e5b3f5f9-ebe3-488d-8b08-4ffbf855c7c5"
      },
      "source": [
        "print(trainX.shape)\n",
        "print(trainY.shape)"
      ],
      "execution_count": null,
      "outputs": [
        {
          "output_type": "stream",
          "name": "stdout",
          "text": [
            "(279, 128)\n",
            "(279,)\n"
          ]
        }
      ]
    },
    {
      "cell_type": "code",
      "metadata": {
        "colab": {
          "base_uri": "https://localhost:8080/"
        },
        "id": "VwtUf0PtCEUL",
        "outputId": "45c3437e-c7ab-4e23-d4aa-e978dc76ef93"
      },
      "source": [
        "type(trainX)"
      ],
      "execution_count": null,
      "outputs": [
        {
          "output_type": "execute_result",
          "data": {
            "text/plain": [
              "numpy.ndarray"
            ]
          },
          "metadata": {},
          "execution_count": 24
        }
      ]
    },
    {
      "cell_type": "code",
      "metadata": {
        "id": "UWuFeglbal2c",
        "colab": {
          "base_uri": "https://localhost:8080/"
        },
        "outputId": "4a0ac523-56c1-4a7b-eb33-bb76a069404e"
      },
      "source": [
        "# irá treinar o algoritmo\n",
        "knn.fit(trainX, trainY)"
      ],
      "execution_count": null,
      "outputs": [
        {
          "output_type": "execute_result",
          "data": {
            "text/plain": [
              "KNeighborsClassifier(algorithm='auto', leaf_size=30, metric='minkowski',\n",
              "                     metric_params=None, n_jobs=None, n_neighbors=5, p=2,\n",
              "                     weights='uniform')"
            ]
          },
          "metadata": {},
          "execution_count": 81
        }
      ]
    },
    {
      "cell_type": "code",
      "metadata": {
        "id": "iRG9qoMPaljT"
      },
      "source": [
        "yhat_train = knn.predict(trainX)\n",
        "yhat_val = knn.predict(valX)"
      ],
      "execution_count": null,
      "outputs": []
    },
    {
      "cell_type": "code",
      "metadata": {
        "id": "wxKRodSEbG1h",
        "colab": {
          "base_uri": "https://localhost:8080/"
        },
        "outputId": "f43f0f13-c333-4bd2-ea10-e85efd193171"
      },
      "source": [
        "# mostra o resultado da predição\n",
        "yhat_val"
      ],
      "execution_count": null,
      "outputs": [
        {
          "output_type": "execute_result",
          "data": {
            "text/plain": [
              "array([1, 1, 0, 0, 0, 1, 0, 0, 0, 0, 0, 0, 1, 0, 1, 1, 1, 1, 1, 1, 1, 1,\n",
              "       1, 1, 1, 1, 1, 1, 1, 1, 1, 1, 1, 1, 1, 1, 1, 1, 1, 1, 1, 1, 1, 1,\n",
              "       1, 1, 1, 1, 1, 1, 1, 1, 1, 1, 1, 1, 1, 1, 1, 1, 1, 1, 1, 1, 1, 1,\n",
              "       1, 1, 1, 1, 1])"
            ]
          },
          "metadata": {},
          "execution_count": 83
        }
      ]
    },
    {
      "cell_type": "code",
      "metadata": {
        "id": "cdbYB9rfbGxR"
      },
      "source": [
        "from sklearn.metrics import confusion_matrix"
      ],
      "execution_count": null,
      "outputs": []
    },
    {
      "cell_type": "code",
      "metadata": {
        "id": "JHAQ4vUAbGkl"
      },
      "source": [
        "def print_confusion_matrix(model_name, valY, yhat_val):\n",
        "      cm = confusion_matrix(valY, yhat_val)\n",
        "      total = sum(sum(cm))\n",
        "      acc = (cm[0, 0] + cm[1, 1]) / total\n",
        "      sensitivity = cm[0, 0] / (cm[0, 0] + cm[0, 1])\n",
        "      specificity = cm[1, 1] / (cm[1, 0] + cm[1, 1])\n",
        "      \n",
        "      print(\"MODELO: {}\".format(model_name))\n",
        "      print(\"Acurácia: {:.4f}\".format(acc))\n",
        "      print(\"Sensitividade: {:.4f}\".format(sensitivity)) \n",
        "      print(\"Especificidade: {:.4f}\".format(specificity)) \n",
        "\n",
        "      from mlxtend.plotting import plot_confusion_matrix\n",
        "      fig, ax = plot_confusion_matrix(conf_mat=cm, figsize=(5,5))\n",
        "      plt.show()\n"
      ],
      "execution_count": null,
      "outputs": []
    },
    {
      "cell_type": "code",
      "metadata": {
        "id": "3dh7jvrrbGYL",
        "colab": {
          "base_uri": "https://localhost:8080/",
          "height": 407
        },
        "outputId": "c93ff0d7-c9a9-49bc-ce55-4acb3609f6dd"
      },
      "source": [
        "print_confusion_matrix(\"KNN\", valY, yhat_val)"
      ],
      "execution_count": null,
      "outputs": [
        {
          "output_type": "stream",
          "name": "stdout",
          "text": [
            "MODELO: KNN\n",
            "Acurácia: 0.9437\n",
            "Sensitividade: 0.7143\n",
            "Especificidade: 1.0000\n"
          ]
        },
        {
          "output_type": "display_data",
          "data": {
            "image/png": "[encoded data removed]",
            "text/plain": [
              "<Figure size 360x360 with 1 Axes>"
            ]
          },
          "metadata": {
            "needs_background": "light"
          }
        }
      ]
    },
    {
      "cell_type": "markdown",
      "metadata": {
        "id": "JIrxgI2I3tAt"
      },
      "source": [
        "O modelo é melhor em classificar os positivos, devido a \"Especificidade:\" ser 1. E perde um pouco em classificar os negativos devdo \"Sensitividade\" ser 0.71. "
      ]
    },
    {
      "cell_type": "markdown",
      "metadata": {
        "id": "6FpEwkn9d3ZB"
      },
      "source": [
        "## **SVM (algoritmo de shallow learning)**\n",
        "\n",
        "\n",
        "\n",
        "\n",
        "\n"
      ]
    },
    {
      "cell_type": "code",
      "metadata": {
        "id": "6HG7d9mBbGPR"
      },
      "source": [
        "from sklearn import svm\n",
        "\n",
        "svm = svm.SVC() # instancia o svm"
      ],
      "execution_count": null,
      "outputs": []
    },
    {
      "cell_type": "code",
      "metadata": {
        "colab": {
          "base_uri": "https://localhost:8080/"
        },
        "id": "NGuPtK5c9YOk",
        "outputId": "104a136a-b303-476d-cad9-b4052ab8e7d9"
      },
      "source": [
        "print(trainX.shape)\n",
        "print(trainY.shape)"
      ],
      "execution_count": null,
      "outputs": [
        {
          "output_type": "stream",
          "name": "stdout",
          "text": [
            "(279, 128)\n",
            "(279,)\n"
          ]
        }
      ]
    },
    {
      "cell_type": "code",
      "metadata": {
        "id": "8fhCSOJZeR0X",
        "colab": {
          "base_uri": "https://localhost:8080/"
        },
        "outputId": "0f6e1bbc-6af9-4fbd-a0f0-3e55c00a74e9"
      },
      "source": [
        "svm.fit(trainX, trainY)"
      ],
      "execution_count": null,
      "outputs": [
        {
          "output_type": "execute_result",
          "data": {
            "text/plain": [
              "SVC(C=1.0, break_ties=False, cache_size=200, class_weight=None, coef0=0.0,\n",
              "    decision_function_shape='ovr', degree=3, gamma='scale', kernel='rbf',\n",
              "    max_iter=-1, probability=False, random_state=None, shrinking=True,\n",
              "    tol=0.001, verbose=False)"
            ]
          },
          "metadata": {},
          "execution_count": 89
        }
      ]
    },
    {
      "cell_type": "code",
      "metadata": {
        "id": "AskTiTZCeRix"
      },
      "source": [
        "yhat_train = svm.predict(trainX)\n",
        "yhat_val = svm.predict(valX)"
      ],
      "execution_count": null,
      "outputs": []
    },
    {
      "cell_type": "code",
      "metadata": {
        "id": "ElKdman8eRXU",
        "colab": {
          "base_uri": "https://localhost:8080/",
          "height": 407
        },
        "outputId": "acf889ac-e997-488a-a97b-408a29dc0078"
      },
      "source": [
        "print_confusion_matrix(\"SVM\", valY, yhat_val)"
      ],
      "execution_count": null,
      "outputs": [
        {
          "output_type": "stream",
          "name": "stdout",
          "text": [
            "MODELO: SVM\n",
            "Acurácia: 0.9718\n",
            "Sensitividade: 0.9286\n",
            "Especificidade: 0.9825\n"
          ]
        },
        {
          "output_type": "display_data",
          "data": {
            "image/png": "[encoded data removed]",
            "text/plain": [
              "<Figure size 360x360 with 1 Axes>"
            ]
          },
          "metadata": {
            "needs_background": "light"
          }
        }
      ]
    },
    {
      "cell_type": "markdown",
      "metadata": {
        "id": "YQhRxBExft95"
      },
      "source": [
        "## **KERAS (multlayer perceptron)**\n",
        "*multlayer perceptron não é um Deep Learning Completo, ele faz uma parte do DL.\n",
        "\n",
        "\n",
        "\n",
        "\n",
        "\n"
      ]
    },
    {
      "cell_type": "code",
      "metadata": {
        "id": "Xd8CkbMyeRNh"
      },
      "source": [
        "from tensorflow.keras.utils import to_categorical"
      ],
      "execution_count": null,
      "outputs": []
    },
    {
      "cell_type": "code",
      "metadata": {
        "id": "BPXSe24VgNxK"
      },
      "source": [
        "trainY = to_categorical(trainY) #precisa fazer isso para categorizar as classes\n"
      ],
      "execution_count": null,
      "outputs": []
    },
    {
      "cell_type": "code",
      "metadata": {
        "id": "VRaTqwuq9-BE"
      },
      "source": [
        "print(trainY)"
      ],
      "execution_count": null,
      "outputs": []
    },
    {
      "cell_type": "code",
      "metadata": {
        "id": "VU5rOw3KgNiJ"
      },
      "source": [
        "valY = to_categorical(valY)"
      ],
      "execution_count": null,
      "outputs": []
    },
    {
      "cell_type": "code",
      "metadata": {
        "id": "mF8UAca-gNKe"
      },
      "source": [
        "from tensorflow.keras import models\n",
        "from tensorflow.keras import layers\n"
      ],
      "execution_count": null,
      "outputs": []
    },
    {
      "cell_type": "code",
      "metadata": {
        "id": "fE1lkr-bgNC3",
        "colab": {
          "base_uri": "https://localhost:8080/"
        },
        "outputId": "e5da2ddd-0f64-4992-e3f2-ee262911d361"
      },
      "source": [
        "model = models.Sequential()\n",
        "model.add(layers.Dense(64, activation=\"relu\", input_shape=(128, )))\n",
        "model.add(layers.Dropout(0.5)) #diminui overfitting\n",
        "model.add(layers.Dense(2, activation=\"softmax\")) #camada de saída. Softmax porque está usando categoria\n",
        "\n",
        "model.summary()"
      ],
      "execution_count": null,
      "outputs": [
        {
          "output_type": "stream",
          "name": "stdout",
          "text": [
            "Model: \"sequential\"\n",
            "_________________________________________________________________\n",
            "Layer (type)                 Output Shape              Param #   \n",
            "=================================================================\n",
            "dense (Dense)                (None, 64)                8256      \n",
            "_________________________________________________________________\n",
            "dropout (Dropout)            (None, 64)                0         \n",
            "_________________________________________________________________\n",
            "dense_1 (Dense)              (None, 2)                 130       \n",
            "=================================================================\n",
            "Total params: 8,386\n",
            "Trainable params: 8,386\n",
            "Non-trainable params: 0\n",
            "_________________________________________________________________\n"
          ]
        }
      ]
    },
    {
      "cell_type": "code",
      "metadata": {
        "id": "UxVeubYQhZiu"
      },
      "source": [
        "model.compile(optimizer=\"adam\",\n",
        "                      loss=\"categorical_crossentropy\",\n",
        "                      metrics=['accuracy'])"
      ],
      "execution_count": null,
      "outputs": []
    },
    {
      "cell_type": "code",
      "metadata": {
        "colab": {
          "base_uri": "https://localhost:8080/"
        },
        "id": "bP5-43md9DOb",
        "outputId": "6d1024c6-3746-4c9e-b6f2-cd58281c6657"
      },
      "source": [
        "print(trainX.shape)\n",
        "print(trainY.shape)\n",
        "print(type(trainX))\n",
        "print(type(trainY))"
      ],
      "execution_count": null,
      "outputs": [
        {
          "output_type": "stream",
          "name": "stdout",
          "text": [
            "(279, 128)\n",
            "(279, 2)\n",
            "<class 'numpy.ndarray'>\n",
            "<class 'numpy.ndarray'>\n"
          ]
        }
      ]
    },
    {
      "cell_type": "code",
      "metadata": {
        "id": "6Mh7LJd1hZbl",
        "colab": {
          "base_uri": "https://localhost:8080/"
        },
        "outputId": "58ea70c5-b25e-40e3-9384-69aef164bbd0"
      },
      "source": [
        "model.fit(trainX, trainY, epochs=100, batch_size=8)"
      ],
      "execution_count": null,
      "outputs": [
        {
          "output_type": "stream",
          "name": "stdout",
          "text": [
            "Epoch 1/100\n",
            "35/35 [==============================] - 1s 2ms/step - loss: 0.5384 - accuracy: 0.7312\n",
            "Epoch 2/100\n",
            "35/35 [==============================] - 0s 2ms/step - loss: 0.2333 - accuracy: 0.9068\n",
            "Epoch 3/100\n",
            "35/35 [==============================] - 0s 2ms/step - loss: 0.1525 - accuracy: 0.9427\n",
            "Epoch 4/100\n",
            "35/35 [==============================] - 0s 2ms/step - loss: 0.1356 - accuracy: 0.9498\n",
            "Epoch 5/100\n",
            "35/35 [==============================] - 0s 1ms/step - loss: 0.1241 - accuracy: 0.9462\n",
            "Epoch 6/100\n",
            "35/35 [==============================] - 0s 2ms/step - loss: 0.0957 - accuracy: 0.9642\n",
            "Epoch 7/100\n",
            "35/35 [==============================] - 0s 1ms/step - loss: 0.0811 - accuracy: 0.9785\n",
            "Epoch 8/100\n",
            "35/35 [==============================] - 0s 2ms/step - loss: 0.0656 - accuracy: 0.9785\n",
            "Epoch 9/100\n",
            "35/35 [==============================] - 0s 2ms/step - loss: 0.0507 - accuracy: 0.9821\n",
            "Epoch 10/100\n",
            "35/35 [==============================] - 0s 2ms/step - loss: 0.0664 - accuracy: 0.9785\n",
            "Epoch 11/100\n",
            "35/35 [==============================] - 0s 2ms/step - loss: 0.0531 - accuracy: 0.9785\n",
            "Epoch 12/100\n",
            "35/35 [==============================] - 0s 2ms/step - loss: 0.0373 - accuracy: 0.9964\n",
            "Epoch 13/100\n",
            "35/35 [==============================] - 0s 2ms/step - loss: 0.0482 - accuracy: 0.9821\n",
            "Epoch 14/100\n",
            "35/35 [==============================] - 0s 2ms/step - loss: 0.0413 - accuracy: 0.9892\n",
            "Epoch 15/100\n",
            "35/35 [==============================] - 0s 2ms/step - loss: 0.0470 - accuracy: 0.9821\n",
            "Epoch 16/100\n",
            "35/35 [==============================] - 0s 2ms/step - loss: 0.0306 - accuracy: 1.0000\n",
            "Epoch 17/100\n",
            "35/35 [==============================] - 0s 2ms/step - loss: 0.0306 - accuracy: 0.9928\n",
            "Epoch 18/100\n",
            "35/35 [==============================] - 0s 6ms/step - loss: 0.0312 - accuracy: 0.9928\n",
            "Epoch 19/100\n",
            "35/35 [==============================] - 0s 2ms/step - loss: 0.0186 - accuracy: 1.0000\n",
            "Epoch 20/100\n",
            "35/35 [==============================] - 0s 2ms/step - loss: 0.0231 - accuracy: 0.9964\n",
            "Epoch 21/100\n",
            "35/35 [==============================] - 0s 2ms/step - loss: 0.0217 - accuracy: 0.9964\n",
            "Epoch 22/100\n",
            "35/35 [==============================] - 0s 2ms/step - loss: 0.0134 - accuracy: 1.0000\n",
            "Epoch 23/100\n",
            "35/35 [==============================] - 0s 1ms/step - loss: 0.0175 - accuracy: 0.9964\n",
            "Epoch 24/100\n",
            "35/35 [==============================] - 0s 2ms/step - loss: 0.0180 - accuracy: 0.9928\n",
            "Epoch 25/100\n",
            "35/35 [==============================] - 0s 2ms/step - loss: 0.0155 - accuracy: 0.9964\n",
            "Epoch 26/100\n",
            "35/35 [==============================] - 0s 2ms/step - loss: 0.0151 - accuracy: 1.0000\n",
            "Epoch 27/100\n",
            "35/35 [==============================] - 0s 1ms/step - loss: 0.0170 - accuracy: 1.0000\n",
            "Epoch 28/100\n",
            "35/35 [==============================] - 0s 1ms/step - loss: 0.0094 - accuracy: 1.0000\n",
            "Epoch 29/100\n",
            "35/35 [==============================] - 0s 1ms/step - loss: 0.0109 - accuracy: 1.0000\n",
            "Epoch 30/100\n",
            "35/35 [==============================] - 0s 1ms/step - loss: 0.0126 - accuracy: 1.0000\n",
            "Epoch 31/100\n",
            "35/35 [==============================] - 0s 1ms/step - loss: 0.0095 - accuracy: 1.0000\n",
            "Epoch 32/100\n",
            "35/35 [==============================] - 0s 2ms/step - loss: 0.0078 - accuracy: 1.0000\n",
            "Epoch 33/100\n",
            "35/35 [==============================] - 0s 2ms/step - loss: 0.0096 - accuracy: 1.0000\n",
            "Epoch 34/100\n",
            "35/35 [==============================] - 0s 2ms/step - loss: 0.0074 - accuracy: 1.0000\n",
            "Epoch 35/100\n",
            "35/35 [==============================] - 0s 2ms/step - loss: 0.0068 - accuracy: 1.0000\n",
            "Epoch 36/100\n",
            "35/35 [==============================] - 0s 2ms/step - loss: 0.0109 - accuracy: 1.0000\n",
            "Epoch 37/100\n",
            "35/35 [==============================] - 0s 2ms/step - loss: 0.0085 - accuracy: 1.0000\n",
            "Epoch 38/100\n",
            "35/35 [==============================] - 0s 1ms/step - loss: 0.0091 - accuracy: 1.0000\n",
            "Epoch 39/100\n",
            "35/35 [==============================] - 0s 2ms/step - loss: 0.0076 - accuracy: 1.0000\n",
            "Epoch 40/100\n",
            "35/35 [==============================] - 0s 2ms/step - loss: 0.0096 - accuracy: 1.0000\n",
            "Epoch 41/100\n",
            "35/35 [==============================] - 0s 2ms/step - loss: 0.0064 - accuracy: 1.0000\n",
            "Epoch 42/100\n",
            "35/35 [==============================] - 0s 1ms/step - loss: 0.0051 - accuracy: 1.0000\n",
            "Epoch 43/100\n",
            "35/35 [==============================] - 0s 2ms/step - loss: 0.0064 - accuracy: 1.0000\n",
            "Epoch 44/100\n",
            "35/35 [==============================] - 0s 2ms/step - loss: 0.0063 - accuracy: 1.0000\n",
            "Epoch 45/100\n",
            "35/35 [==============================] - 0s 2ms/step - loss: 0.0043 - accuracy: 1.0000\n",
            "Epoch 46/100\n",
            "35/35 [==============================] - 0s 2ms/step - loss: 0.0064 - accuracy: 1.0000\n",
            "Epoch 47/100\n",
            "35/35 [==============================] - 0s 2ms/step - loss: 0.0038 - accuracy: 1.0000\n",
            "Epoch 48/100\n",
            "35/35 [==============================] - 0s 2ms/step - loss: 0.0050 - accuracy: 1.0000\n",
            "Epoch 49/100\n",
            "35/35 [==============================] - 0s 2ms/step - loss: 0.0055 - accuracy: 1.0000\n",
            "Epoch 50/100\n",
            "35/35 [==============================] - 0s 2ms/step - loss: 0.0098 - accuracy: 0.9964\n",
            "Epoch 51/100\n",
            "35/35 [==============================] - 0s 2ms/step - loss: 0.0038 - accuracy: 1.0000\n",
            "Epoch 52/100\n",
            "35/35 [==============================] - 0s 2ms/step - loss: 0.0079 - accuracy: 0.9964\n",
            "Epoch 53/100\n",
            "35/35 [==============================] - 0s 2ms/step - loss: 0.0030 - accuracy: 1.0000\n",
            "Epoch 54/100\n",
            "35/35 [==============================] - 0s 2ms/step - loss: 0.0112 - accuracy: 0.9928\n",
            "Epoch 55/100\n",
            "35/35 [==============================] - 0s 1ms/step - loss: 0.0048 - accuracy: 1.0000\n",
            "Epoch 56/100\n",
            "35/35 [==============================] - 0s 2ms/step - loss: 0.0034 - accuracy: 1.0000\n",
            "Epoch 57/100\n",
            "35/35 [==============================] - 0s 2ms/step - loss: 0.0050 - accuracy: 1.0000\n",
            "Epoch 58/100\n",
            "35/35 [==============================] - 0s 2ms/step - loss: 0.0020 - accuracy: 1.0000\n",
            "Epoch 59/100\n",
            "35/35 [==============================] - 0s 2ms/step - loss: 0.0029 - accuracy: 1.0000\n",
            "Epoch 60/100\n",
            "35/35 [==============================] - 0s 3ms/step - loss: 0.0024 - accuracy: 1.0000\n",
            "Epoch 61/100\n",
            "35/35 [==============================] - 0s 2ms/step - loss: 0.0025 - accuracy: 1.0000\n",
            "Epoch 62/100\n",
            "35/35 [==============================] - 0s 2ms/step - loss: 0.0041 - accuracy: 0.9964\n",
            "Epoch 63/100\n",
            "35/35 [==============================] - 0s 2ms/step - loss: 0.0034 - accuracy: 1.0000\n",
            "Epoch 64/100\n",
            "35/35 [==============================] - 0s 2ms/step - loss: 0.0024 - accuracy: 1.0000\n",
            "Epoch 65/100\n",
            "35/35 [==============================] - 0s 2ms/step - loss: 0.0039 - accuracy: 1.0000\n",
            "Epoch 66/100\n",
            "35/35 [==============================] - 0s 2ms/step - loss: 0.0018 - accuracy: 1.0000\n",
            "Epoch 67/100\n",
            "35/35 [==============================] - 0s 2ms/step - loss: 0.0014 - accuracy: 1.0000\n",
            "Epoch 68/100\n",
            "35/35 [==============================] - 0s 2ms/step - loss: 0.0033 - accuracy: 1.0000\n",
            "Epoch 69/100\n",
            "35/35 [==============================] - 0s 2ms/step - loss: 0.0014 - accuracy: 1.0000\n",
            "Epoch 70/100\n",
            "35/35 [==============================] - 0s 2ms/step - loss: 0.0018 - accuracy: 1.0000\n",
            "Epoch 71/100\n",
            "35/35 [==============================] - 0s 2ms/step - loss: 0.0018 - accuracy: 1.0000\n",
            "Epoch 72/100\n",
            "35/35 [==============================] - 0s 2ms/step - loss: 0.0020 - accuracy: 1.0000\n",
            "Epoch 73/100\n",
            "35/35 [==============================] - 0s 2ms/step - loss: 0.0015 - accuracy: 1.0000\n",
            "Epoch 74/100\n",
            "35/35 [==============================] - 0s 1ms/step - loss: 0.0022 - accuracy: 1.0000\n",
            "Epoch 75/100\n",
            "35/35 [==============================] - 0s 1ms/step - loss: 0.0030 - accuracy: 1.0000\n",
            "Epoch 76/100\n",
            "35/35 [==============================] - 0s 2ms/step - loss: 0.0020 - accuracy: 1.0000\n",
            "Epoch 77/100\n",
            "35/35 [==============================] - 0s 1ms/step - loss: 9.6354e-04 - accuracy: 1.0000\n",
            "Epoch 78/100\n",
            "35/35 [==============================] - 0s 2ms/step - loss: 0.0017 - accuracy: 1.0000\n",
            "Epoch 79/100\n",
            "35/35 [==============================] - 0s 2ms/step - loss: 0.0010 - accuracy: 1.0000\n",
            "Epoch 80/100\n",
            "35/35 [==============================] - 0s 2ms/step - loss: 0.0020 - accuracy: 1.0000\n",
            "Epoch 81/100\n",
            "35/35 [==============================] - 0s 2ms/step - loss: 0.0034 - accuracy: 1.0000\n",
            "Epoch 82/100\n",
            "35/35 [==============================] - 0s 2ms/step - loss: 0.0012 - accuracy: 1.0000\n",
            "Epoch 83/100\n",
            "35/35 [==============================] - 0s 2ms/step - loss: 0.0017 - accuracy: 1.0000\n",
            "Epoch 84/100\n",
            "35/35 [==============================] - 0s 2ms/step - loss: 8.7580e-04 - accuracy: 1.0000\n",
            "Epoch 85/100\n",
            "35/35 [==============================] - 0s 2ms/step - loss: 0.0027 - accuracy: 1.0000\n",
            "Epoch 86/100\n",
            "35/35 [==============================] - 0s 2ms/step - loss: 0.0014 - accuracy: 1.0000\n",
            "Epoch 87/100\n",
            "35/35 [==============================] - 0s 1ms/step - loss: 8.8342e-04 - accuracy: 1.0000\n",
            "Epoch 88/100\n",
            "35/35 [==============================] - 0s 2ms/step - loss: 0.0017 - accuracy: 1.0000\n",
            "Epoch 89/100\n",
            "35/35 [==============================] - 0s 2ms/step - loss: 0.0017 - accuracy: 1.0000\n",
            "Epoch 90/100\n",
            "35/35 [==============================] - 0s 2ms/step - loss: 0.0020 - accuracy: 1.0000\n",
            "Epoch 91/100\n",
            "35/35 [==============================] - 0s 2ms/step - loss: 0.0020 - accuracy: 1.0000\n",
            "Epoch 92/100\n",
            "35/35 [==============================] - 0s 2ms/step - loss: 9.2676e-04 - accuracy: 1.0000\n",
            "Epoch 93/100\n",
            "35/35 [==============================] - 0s 2ms/step - loss: 0.0022 - accuracy: 1.0000\n",
            "Epoch 94/100\n",
            "35/35 [==============================] - 0s 2ms/step - loss: 0.0011 - accuracy: 1.0000\n",
            "Epoch 95/100\n",
            "35/35 [==============================] - 0s 1ms/step - loss: 0.0016 - accuracy: 1.0000\n",
            "Epoch 96/100\n",
            "35/35 [==============================] - 0s 1ms/step - loss: 0.0033 - accuracy: 1.0000\n",
            "Epoch 97/100\n",
            "35/35 [==============================] - 0s 2ms/step - loss: 0.0017 - accuracy: 1.0000\n",
            "Epoch 98/100\n",
            "35/35 [==============================] - 0s 1ms/step - loss: 0.0012 - accuracy: 1.0000\n",
            "Epoch 99/100\n",
            "35/35 [==============================] - 0s 2ms/step - loss: 0.0017 - accuracy: 1.0000\n",
            "Epoch 100/100\n",
            "35/35 [==============================] - 0s 1ms/step - loss: 0.0011 - accuracy: 1.0000\n"
          ]
        },
        {
          "output_type": "execute_result",
          "data": {
            "text/plain": [
              "<keras.callbacks.History at 0x7f9e91a28f90>"
            ]
          },
          "metadata": {},
          "execution_count": 19
        }
      ]
    },
    {
      "cell_type": "code",
      "metadata": {
        "id": "i-UBZXiahYma"
      },
      "source": [
        "yhat_train = model.predict(trainX)\n",
        "yhat_val = model.predict(valX)"
      ],
      "execution_count": null,
      "outputs": []
    },
    {
      "cell_type": "code",
      "metadata": {
        "id": "iefK5NKminh1",
        "colab": {
          "base_uri": "https://localhost:8080/"
        },
        "outputId": "6499888d-dcb8-4eb0-e1f4-165c7766a2af"
      },
      "source": [
        "yhat_val = np.argmax(yhat_val, axis=1)\n",
        "print(yhat_val) #mostra a previsão"
      ],
      "execution_count": null,
      "outputs": [
        {
          "output_type": "stream",
          "name": "stdout",
          "text": [
            "[0 0 0 0 0 0 0 0 0 0 0 0 0 0 1 1 1 1 1 1 1 1 1 1 1 1 1 1 1 1 1 1 1 1 1 1 1\n",
            " 1 1 1 1 1 1 1 1 1 1 1 1 1 1 1 1 1 1 1 1 1 1 1 1 1 0 1 1 1 1 1 1 0 1]\n"
          ]
        }
      ]
    },
    {
      "cell_type": "code",
      "metadata": {
        "colab": {
          "base_uri": "https://localhost:8080/"
        },
        "id": "lzY5SwoGAI6W",
        "outputId": "19a52088-a9a0-43bb-addb-62456fbabc18"
      },
      "source": [
        "valY[0]"
      ],
      "execution_count": null,
      "outputs": [
        {
          "output_type": "execute_result",
          "data": {
            "text/plain": [
              "array([1, 0])"
            ]
          },
          "metadata": {},
          "execution_count": 104
        }
      ]
    },
    {
      "cell_type": "code",
      "metadata": {
        "id": "sgfcqsMBi4Dt"
      },
      "source": [
        "# Troca a probabilidade para um resultado. Ou 0 ou 1\n",
        "valY = np.argmax(valY, axis=1)\n"
      ],
      "execution_count": null,
      "outputs": []
    },
    {
      "cell_type": "code",
      "metadata": {
        "colab": {
          "base_uri": "https://localhost:8080/"
        },
        "id": "UxAGzOw__c-7",
        "outputId": "f7b91f27-5f5c-424c-9cda-c9c005456c51"
      },
      "source": [
        "print(valY) #mostra a previsão "
      ],
      "execution_count": null,
      "outputs": [
        {
          "output_type": "stream",
          "name": "stdout",
          "text": [
            "[0 0 0 0 0 0 0 0 0 0 0 0 0 0 1 1 1 1 1 1 1 1 1 1 1 1 1 1 1 1 1 1 1 1 1 1 1\n",
            " 1 1 1 1 1 1 1 1 1 1 1 1 1 1 1 1 1 1 1 1 1 1 1 1 1 1 1 1 1 1 1 1 1 1]\n"
          ]
        }
      ]
    },
    {
      "cell_type": "code",
      "metadata": {
        "id": "Hur59nI3iOix",
        "colab": {
          "base_uri": "https://localhost:8080/",
          "height": 407
        },
        "outputId": "5c66dfaa-6462-4729-f832-82c097ef90c8"
      },
      "source": [
        "print_confusion_matrix(\"KERAS\", valY, yhat_val)"
      ],
      "execution_count": null,
      "outputs": [
        {
          "output_type": "stream",
          "name": "stdout",
          "text": [
            "MODELO: KERAS\n",
            "Acurácia: 0.9718\n",
            "Sensitividade: 1.0000\n",
            "Especificidade: 0.9649\n"
          ]
        },
        {
          "output_type": "display_data",
          "data": {
            "image/png": "[encoded data removed]",
            "text/plain": [
              "<Figure size 360x360 with 1 Axes>"
            ]
          },
          "metadata": {
            "needs_background": "light"
          }
        }
      ]
    },
    {
      "cell_type": "markdown",
      "metadata": {
        "id": "5c1Dexk9jPTx"
      },
      "source": [
        " **Apesar da acurácia não ter dado 100%, esse modelo (Keras) é mais generalista. Porque provavelmente o SVM está dando overfitting.**"
      ]
    },
    {
      "cell_type": "code",
      "metadata": {
        "id": "ColRGg7UjdCC"
      },
      "source": [
        "model.save('faces.h5') #esse é o modelo que vai reconhecer faces que aparecer no vídeo"
      ],
      "execution_count": null,
      "outputs": []
    }
  ]
}